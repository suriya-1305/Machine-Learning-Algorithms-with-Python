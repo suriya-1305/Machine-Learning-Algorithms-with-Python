{
  "nbformat": 4,
  "nbformat_minor": 0,
  "metadata": {
    "colab": {
      "name": "19BAI1049_LAB8_KMEANSCLUSTERING.ipynb",
      "provenance": []
    },
    "kernelspec": {
      "name": "python3",
      "display_name": "Python 3"
    },
    "language_info": {
      "name": "python"
    }
  },
  "cells": [
    {
      "cell_type": "markdown",
      "metadata": {
        "id": "pBlkNRHEHGDC"
      },
      "source": [
        "K MEANS CLUSTERING\n"
      ]
    },
    {
      "cell_type": "markdown",
      "metadata": {
        "id": "VHmVmmg6HJYX"
      },
      "source": [
        "DATASET:https://www.kaggle.com/ashydv/country-socioeconomic-data"
      ]
    },
    {
      "cell_type": "code",
      "metadata": {
        "id": "pQA4K0r2HKz6"
      },
      "source": [
        "##IMPORTING PACAKGES\n",
        "import pandas as pd\n",
        "import numpy as np\n",
        "import matplotlib.pyplot as plt\n",
        "import seaborn as sns\n",
        "from sklearn.cluster import KMeans"
      ],
      "execution_count": 1,
      "outputs": []
    },
    {
      "cell_type": "code",
      "metadata": {
        "colab": {
          "base_uri": "https://localhost:8080/",
          "height": 204
        },
        "id": "JhAXqiJoIfVW",
        "outputId": "feab38b8-a90c-4548-de11-b24ba2f2ab8e"
      },
      "source": [
        "##LOADING THE DATASET\n",
        "data=pd.read_csv(\"Country-data.csv\")\n",
        "data.head()"
      ],
      "execution_count": 35,
      "outputs": [
        {
          "output_type": "execute_result",
          "data": {
            "text/html": [
              "<div>\n",
              "<style scoped>\n",
              "    .dataframe tbody tr th:only-of-type {\n",
              "        vertical-align: middle;\n",
              "    }\n",
              "\n",
              "    .dataframe tbody tr th {\n",
              "        vertical-align: top;\n",
              "    }\n",
              "\n",
              "    .dataframe thead th {\n",
              "        text-align: right;\n",
              "    }\n",
              "</style>\n",
              "<table border=\"1\" class=\"dataframe\">\n",
              "  <thead>\n",
              "    <tr style=\"text-align: right;\">\n",
              "      <th></th>\n",
              "      <th>country</th>\n",
              "      <th>child_mort</th>\n",
              "      <th>exports</th>\n",
              "      <th>health</th>\n",
              "      <th>imports</th>\n",
              "      <th>income</th>\n",
              "      <th>inflation</th>\n",
              "      <th>life_expec</th>\n",
              "      <th>total_fer</th>\n",
              "      <th>gdpp</th>\n",
              "    </tr>\n",
              "  </thead>\n",
              "  <tbody>\n",
              "    <tr>\n",
              "      <th>0</th>\n",
              "      <td>Afghanistan</td>\n",
              "      <td>90.2</td>\n",
              "      <td>10.0</td>\n",
              "      <td>7.58</td>\n",
              "      <td>44.9</td>\n",
              "      <td>1610</td>\n",
              "      <td>9.44</td>\n",
              "      <td>56.2</td>\n",
              "      <td>5.82</td>\n",
              "      <td>553</td>\n",
              "    </tr>\n",
              "    <tr>\n",
              "      <th>1</th>\n",
              "      <td>Albania</td>\n",
              "      <td>16.6</td>\n",
              "      <td>28.0</td>\n",
              "      <td>6.55</td>\n",
              "      <td>48.6</td>\n",
              "      <td>9930</td>\n",
              "      <td>4.49</td>\n",
              "      <td>76.3</td>\n",
              "      <td>1.65</td>\n",
              "      <td>4090</td>\n",
              "    </tr>\n",
              "    <tr>\n",
              "      <th>2</th>\n",
              "      <td>Algeria</td>\n",
              "      <td>27.3</td>\n",
              "      <td>38.4</td>\n",
              "      <td>4.17</td>\n",
              "      <td>31.4</td>\n",
              "      <td>12900</td>\n",
              "      <td>16.10</td>\n",
              "      <td>76.5</td>\n",
              "      <td>2.89</td>\n",
              "      <td>4460</td>\n",
              "    </tr>\n",
              "    <tr>\n",
              "      <th>3</th>\n",
              "      <td>Angola</td>\n",
              "      <td>119.0</td>\n",
              "      <td>62.3</td>\n",
              "      <td>2.85</td>\n",
              "      <td>42.9</td>\n",
              "      <td>5900</td>\n",
              "      <td>22.40</td>\n",
              "      <td>60.1</td>\n",
              "      <td>6.16</td>\n",
              "      <td>3530</td>\n",
              "    </tr>\n",
              "    <tr>\n",
              "      <th>4</th>\n",
              "      <td>Antigua and Barbuda</td>\n",
              "      <td>10.3</td>\n",
              "      <td>45.5</td>\n",
              "      <td>6.03</td>\n",
              "      <td>58.9</td>\n",
              "      <td>19100</td>\n",
              "      <td>1.44</td>\n",
              "      <td>76.8</td>\n",
              "      <td>2.13</td>\n",
              "      <td>12200</td>\n",
              "    </tr>\n",
              "  </tbody>\n",
              "</table>\n",
              "</div>"
            ],
            "text/plain": [
              "               country  child_mort  exports  ...  life_expec  total_fer   gdpp\n",
              "0          Afghanistan        90.2     10.0  ...        56.2       5.82    553\n",
              "1              Albania        16.6     28.0  ...        76.3       1.65   4090\n",
              "2              Algeria        27.3     38.4  ...        76.5       2.89   4460\n",
              "3               Angola       119.0     62.3  ...        60.1       6.16   3530\n",
              "4  Antigua and Barbuda        10.3     45.5  ...        76.8       2.13  12200\n",
              "\n",
              "[5 rows x 10 columns]"
            ]
          },
          "metadata": {
            "tags": []
          },
          "execution_count": 35
        }
      ]
    },
    {
      "cell_type": "code",
      "metadata": {
        "colab": {
          "base_uri": "https://localhost:8080/"
        },
        "id": "fzj9Si-fIqqe",
        "outputId": "3cd1e07f-cff6-4537-a836-b77cceb77321"
      },
      "source": [
        "data.info()"
      ],
      "execution_count": 6,
      "outputs": [
        {
          "output_type": "stream",
          "text": [
            "<class 'pandas.core.frame.DataFrame'>\n",
            "RangeIndex: 167 entries, 0 to 166\n",
            "Data columns (total 10 columns):\n",
            " #   Column      Non-Null Count  Dtype  \n",
            "---  ------      --------------  -----  \n",
            " 0   country     167 non-null    object \n",
            " 1   child_mort  167 non-null    float64\n",
            " 2   exports     167 non-null    float64\n",
            " 3   health      167 non-null    float64\n",
            " 4   imports     167 non-null    float64\n",
            " 5   income      167 non-null    int64  \n",
            " 6   inflation   167 non-null    float64\n",
            " 7   life_expec  167 non-null    float64\n",
            " 8   total_fer   167 non-null    float64\n",
            " 9   gdpp        167 non-null    int64  \n",
            "dtypes: float64(7), int64(2), object(1)\n",
            "memory usage: 13.2+ KB\n"
          ],
          "name": "stdout"
        }
      ]
    },
    {
      "cell_type": "code",
      "metadata": {
        "colab": {
          "base_uri": "https://localhost:8080/"
        },
        "id": "ehgxUx4ULSdR",
        "outputId": "be849248-ef55-4ce9-9f0f-2cef1ea50c6a"
      },
      "source": [
        "data.isnull().sum()"
      ],
      "execution_count": 9,
      "outputs": [
        {
          "output_type": "execute_result",
          "data": {
            "text/plain": [
              "country       0\n",
              "child_mort    0\n",
              "exports       0\n",
              "health        0\n",
              "imports       0\n",
              "income        0\n",
              "inflation     0\n",
              "life_expec    0\n",
              "total_fer     0\n",
              "gdpp          0\n",
              "dtype: int64"
            ]
          },
          "metadata": {
            "tags": []
          },
          "execution_count": 9
        }
      ]
    },
    {
      "cell_type": "code",
      "metadata": {
        "colab": {
          "base_uri": "https://localhost:8080/",
          "height": 297
        },
        "id": "fpOeItVwI48N",
        "outputId": "629be4ad-563c-44d0-eeff-901acf55db49"
      },
      "source": [
        "data.describe()"
      ],
      "execution_count": 7,
      "outputs": [
        {
          "output_type": "execute_result",
          "data": {
            "text/html": [
              "<div>\n",
              "<style scoped>\n",
              "    .dataframe tbody tr th:only-of-type {\n",
              "        vertical-align: middle;\n",
              "    }\n",
              "\n",
              "    .dataframe tbody tr th {\n",
              "        vertical-align: top;\n",
              "    }\n",
              "\n",
              "    .dataframe thead th {\n",
              "        text-align: right;\n",
              "    }\n",
              "</style>\n",
              "<table border=\"1\" class=\"dataframe\">\n",
              "  <thead>\n",
              "    <tr style=\"text-align: right;\">\n",
              "      <th></th>\n",
              "      <th>child_mort</th>\n",
              "      <th>exports</th>\n",
              "      <th>health</th>\n",
              "      <th>imports</th>\n",
              "      <th>income</th>\n",
              "      <th>inflation</th>\n",
              "      <th>life_expec</th>\n",
              "      <th>total_fer</th>\n",
              "      <th>gdpp</th>\n",
              "    </tr>\n",
              "  </thead>\n",
              "  <tbody>\n",
              "    <tr>\n",
              "      <th>count</th>\n",
              "      <td>167.000000</td>\n",
              "      <td>167.000000</td>\n",
              "      <td>167.000000</td>\n",
              "      <td>167.000000</td>\n",
              "      <td>167.000000</td>\n",
              "      <td>167.000000</td>\n",
              "      <td>167.000000</td>\n",
              "      <td>167.000000</td>\n",
              "      <td>167.000000</td>\n",
              "    </tr>\n",
              "    <tr>\n",
              "      <th>mean</th>\n",
              "      <td>38.270060</td>\n",
              "      <td>41.108976</td>\n",
              "      <td>6.815689</td>\n",
              "      <td>46.890215</td>\n",
              "      <td>17144.688623</td>\n",
              "      <td>7.781832</td>\n",
              "      <td>70.555689</td>\n",
              "      <td>2.947964</td>\n",
              "      <td>12964.155689</td>\n",
              "    </tr>\n",
              "    <tr>\n",
              "      <th>std</th>\n",
              "      <td>40.328931</td>\n",
              "      <td>27.412010</td>\n",
              "      <td>2.746837</td>\n",
              "      <td>24.209589</td>\n",
              "      <td>19278.067698</td>\n",
              "      <td>10.570704</td>\n",
              "      <td>8.893172</td>\n",
              "      <td>1.513848</td>\n",
              "      <td>18328.704809</td>\n",
              "    </tr>\n",
              "    <tr>\n",
              "      <th>min</th>\n",
              "      <td>2.600000</td>\n",
              "      <td>0.109000</td>\n",
              "      <td>1.810000</td>\n",
              "      <td>0.065900</td>\n",
              "      <td>609.000000</td>\n",
              "      <td>-4.210000</td>\n",
              "      <td>32.100000</td>\n",
              "      <td>1.150000</td>\n",
              "      <td>231.000000</td>\n",
              "    </tr>\n",
              "    <tr>\n",
              "      <th>25%</th>\n",
              "      <td>8.250000</td>\n",
              "      <td>23.800000</td>\n",
              "      <td>4.920000</td>\n",
              "      <td>30.200000</td>\n",
              "      <td>3355.000000</td>\n",
              "      <td>1.810000</td>\n",
              "      <td>65.300000</td>\n",
              "      <td>1.795000</td>\n",
              "      <td>1330.000000</td>\n",
              "    </tr>\n",
              "    <tr>\n",
              "      <th>50%</th>\n",
              "      <td>19.300000</td>\n",
              "      <td>35.000000</td>\n",
              "      <td>6.320000</td>\n",
              "      <td>43.300000</td>\n",
              "      <td>9960.000000</td>\n",
              "      <td>5.390000</td>\n",
              "      <td>73.100000</td>\n",
              "      <td>2.410000</td>\n",
              "      <td>4660.000000</td>\n",
              "    </tr>\n",
              "    <tr>\n",
              "      <th>75%</th>\n",
              "      <td>62.100000</td>\n",
              "      <td>51.350000</td>\n",
              "      <td>8.600000</td>\n",
              "      <td>58.750000</td>\n",
              "      <td>22800.000000</td>\n",
              "      <td>10.750000</td>\n",
              "      <td>76.800000</td>\n",
              "      <td>3.880000</td>\n",
              "      <td>14050.000000</td>\n",
              "    </tr>\n",
              "    <tr>\n",
              "      <th>max</th>\n",
              "      <td>208.000000</td>\n",
              "      <td>200.000000</td>\n",
              "      <td>17.900000</td>\n",
              "      <td>174.000000</td>\n",
              "      <td>125000.000000</td>\n",
              "      <td>104.000000</td>\n",
              "      <td>82.800000</td>\n",
              "      <td>7.490000</td>\n",
              "      <td>105000.000000</td>\n",
              "    </tr>\n",
              "  </tbody>\n",
              "</table>\n",
              "</div>"
            ],
            "text/plain": [
              "       child_mort     exports  ...   total_fer           gdpp\n",
              "count  167.000000  167.000000  ...  167.000000     167.000000\n",
              "mean    38.270060   41.108976  ...    2.947964   12964.155689\n",
              "std     40.328931   27.412010  ...    1.513848   18328.704809\n",
              "min      2.600000    0.109000  ...    1.150000     231.000000\n",
              "25%      8.250000   23.800000  ...    1.795000    1330.000000\n",
              "50%     19.300000   35.000000  ...    2.410000    4660.000000\n",
              "75%     62.100000   51.350000  ...    3.880000   14050.000000\n",
              "max    208.000000  200.000000  ...    7.490000  105000.000000\n",
              "\n",
              "[8 rows x 9 columns]"
            ]
          },
          "metadata": {
            "tags": []
          },
          "execution_count": 7
        }
      ]
    },
    {
      "cell_type": "code",
      "metadata": {
        "colab": {
          "base_uri": "https://localhost:8080/"
        },
        "id": "IE5VdM4II62p",
        "outputId": "d073208d-c723-4320-b66c-bef5f4840f6c"
      },
      "source": [
        "data.shape"
      ],
      "execution_count": 5,
      "outputs": [
        {
          "output_type": "execute_result",
          "data": {
            "text/plain": [
              "(167, 10)"
            ]
          },
          "metadata": {
            "tags": []
          },
          "execution_count": 5
        }
      ]
    },
    {
      "cell_type": "code",
      "metadata": {
        "id": "zdQ_AXMULZ3p"
      },
      "source": [
        "data.drop('country', axis=1, inplace=True)"
      ],
      "execution_count": 10,
      "outputs": []
    },
    {
      "cell_type": "code",
      "metadata": {
        "colab": {
          "base_uri": "https://localhost:8080/"
        },
        "id": "aF8b7iSOLgnd",
        "outputId": "67f187e5-4584-4f8a-a7f0-3c9fb3cd2030"
      },
      "source": [
        "data.shape"
      ],
      "execution_count": 11,
      "outputs": [
        {
          "output_type": "execute_result",
          "data": {
            "text/plain": [
              "(167, 9)"
            ]
          },
          "metadata": {
            "tags": []
          },
          "execution_count": 11
        }
      ]
    },
    {
      "cell_type": "code",
      "metadata": {
        "colab": {
          "base_uri": "https://localhost:8080/"
        },
        "id": "moceSBDhI8fS",
        "outputId": "bbee686d-7b81-46ee-ad1e-bcf8cd8570dd"
      },
      "source": [
        "kmeanscluster=KMeans(n_clusters=2)\n",
        "kmeanscluster.fit(data)\n",
        "y_kmeanscluster=kmeanscluster.predict(data)\n",
        "print(y_kmeanscluster)"
      ],
      "execution_count": 12,
      "outputs": [
        {
          "output_type": "stream",
          "text": [
            "[0 0 0 0 0 0 0 1 1 0 0 1 0 0 0 1 0 0 0 0 0 0 0 1 0 0 0 0 0 1 0 0 0 0 0 0 0\n",
            " 0 0 0 0 0 1 0 1 0 0 0 0 0 0 0 0 1 1 0 0 0 1 0 1 0 0 0 0 0 0 0 1 0 0 0 0 1\n",
            " 1 1 0 1 0 0 0 0 1 0 0 0 0 0 0 0 0 1 0 0 0 0 0 0 0 0 0 0 0 0 0 0 0 0 0 0 1\n",
            " 1 0 0 1 1 0 0 0 0 0 0 0 1 0 0 0 0 1 0 0 0 0 1 0 0 0 0 0 1 0 0 0 0 1 1 0 0\n",
            " 0 0 0 0 0 0 0 0 0 1 1 1 0 0 0 0 0 0 0]\n"
          ],
          "name": "stdout"
        }
      ]
    },
    {
      "cell_type": "code",
      "metadata": {
        "colab": {
          "base_uri": "https://localhost:8080/"
        },
        "id": "h9a7914nK8Vg",
        "outputId": "fe2b2749-b8a4-4724-d8f0-8175e43b5250"
      },
      "source": [
        "kmeanscluster.labels_"
      ],
      "execution_count": 13,
      "outputs": [
        {
          "output_type": "execute_result",
          "data": {
            "text/plain": [
              "array([0, 0, 0, 0, 0, 0, 0, 1, 1, 0, 0, 1, 0, 0, 0, 1, 0, 0, 0, 0, 0, 0,\n",
              "       0, 1, 0, 0, 0, 0, 0, 1, 0, 0, 0, 0, 0, 0, 0, 0, 0, 0, 0, 0, 1, 0,\n",
              "       1, 0, 0, 0, 0, 0, 0, 0, 0, 1, 1, 0, 0, 0, 1, 0, 1, 0, 0, 0, 0, 0,\n",
              "       0, 0, 1, 0, 0, 0, 0, 1, 1, 1, 0, 1, 0, 0, 0, 0, 1, 0, 0, 0, 0, 0,\n",
              "       0, 0, 0, 1, 0, 0, 0, 0, 0, 0, 0, 0, 0, 0, 0, 0, 0, 0, 0, 0, 0, 0,\n",
              "       1, 1, 0, 0, 1, 1, 0, 0, 0, 0, 0, 0, 0, 1, 0, 0, 0, 0, 1, 0, 0, 0,\n",
              "       0, 1, 0, 0, 0, 0, 0, 1, 0, 0, 0, 0, 1, 1, 0, 0, 0, 0, 0, 0, 0, 0,\n",
              "       0, 0, 0, 1, 1, 1, 0, 0, 0, 0, 0, 0, 0], dtype=int32)"
            ]
          },
          "metadata": {
            "tags": []
          },
          "execution_count": 13
        }
      ]
    },
    {
      "cell_type": "code",
      "metadata": {
        "colab": {
          "base_uri": "https://localhost:8080/"
        },
        "id": "heNAvjW-MjYj",
        "outputId": "b5cd2536-9aae-461a-ff98-e3f3783e3ec7"
      },
      "source": [
        "kmeanscluster.cluster_centers_"
      ],
      "execution_count": 14,
      "outputs": [
        {
          "output_type": "execute_result",
          "data": {
            "text/plain": [
              "array([[4.60155556e+01, 3.75866593e+01, 6.42029630e+00, 4.69923400e+01,\n",
              "        9.60268889e+03, 8.71334815e+00, 6.82940741e+01, 3.19881481e+00,\n",
              "        5.34899259e+03],\n",
              "       [5.59375000e+00, 5.59687500e+01, 8.48375000e+00, 4.64593750e+01,\n",
              "        4.89625000e+04, 3.85200000e+00, 8.00968750e+01, 1.88968750e+00,\n",
              "        4.50906250e+04]])"
            ]
          },
          "metadata": {
            "tags": []
          },
          "execution_count": 14
        }
      ]
    },
    {
      "cell_type": "code",
      "metadata": {
        "colab": {
          "base_uri": "https://localhost:8080/",
          "height": 282
        },
        "id": "NPRDDvthQLvD",
        "outputId": "3ba150c0-dba7-4909-b998-7a308faf525f"
      },
      "source": [
        "plt.scatter(data.child_mort,data.exports,c=y_kmeanscluster,cmap='rainbow')\n"
      ],
      "execution_count": 30,
      "outputs": [
        {
          "output_type": "execute_result",
          "data": {
            "text/plain": [
              "<matplotlib.collections.PathCollection at 0x7f0531efe790>"
            ]
          },
          "metadata": {
            "tags": []
          },
          "execution_count": 30
        },
        {
          "output_type": "display_data",
          "data": {
            "image/png": "[encoded data removed]",
            "text/plain": [
              "<Figure size 432x288 with 1 Axes>"
            ]
          },
          "metadata": {
            "tags": [],
            "needs_background": "light"
          }
        }
      ]
    },
    {
      "cell_type": "code",
      "metadata": {
        "colab": {
          "base_uri": "https://localhost:8080/",
          "height": 282
        },
        "id": "By1LjxZES0JA",
        "outputId": "f3e597fa-9688-4767-a76e-f8224be1c0cc"
      },
      "source": [
        "plt.scatter(data.health,data.imports,c=y_kmeanscluster,cmap='rainbow')\n"
      ],
      "execution_count": 31,
      "outputs": [
        {
          "output_type": "execute_result",
          "data": {
            "text/plain": [
              "<matplotlib.collections.PathCollection at 0x7f05318d0310>"
            ]
          },
          "metadata": {
            "tags": []
          },
          "execution_count": 31
        },
        {
          "output_type": "display_data",
          "data": {
            "image/png": "[encoded data removed]",
            "text/plain": [
              "<Figure size 432x288 with 1 Axes>"
            ]
          },
          "metadata": {
            "tags": [],
            "needs_background": "light"
          }
        }
      ]
    },
    {
      "cell_type": "code",
      "metadata": {
        "colab": {
          "base_uri": "https://localhost:8080/",
          "height": 282
        },
        "id": "E8HLoKwraMj4",
        "outputId": "14cc4ac4-c7df-4a36-8991-7365c08dcac4"
      },
      "source": [
        "plt.scatter(data.income,data.inflation,c=y_kmeanscluster,cmap='rainbow')\n"
      ],
      "execution_count": 32,
      "outputs": [
        {
          "output_type": "execute_result",
          "data": {
            "text/plain": [
              "<matplotlib.collections.PathCollection at 0x7f0531843d50>"
            ]
          },
          "metadata": {
            "tags": []
          },
          "execution_count": 32
        },
        {
          "output_type": "display_data",
          "data": {
            "image/png": "[encoded data removed]",
            "text/plain": [
              "<Figure size 432x288 with 1 Axes>"
            ]
          },
          "metadata": {
            "tags": [],
            "needs_background": "light"
          }
        }
      ]
    },
    {
      "cell_type": "code",
      "metadata": {
        "colab": {
          "base_uri": "https://localhost:8080/",
          "height": 282
        },
        "id": "dlLjWyU7aQ00",
        "outputId": "e6fe79e9-b48f-4afa-a11a-491b56e14898"
      },
      "source": [
        "plt.scatter(data.life_expec,data.total_fer,c=y_kmeanscluster,cmap='rainbow')\n"
      ],
      "execution_count": 33,
      "outputs": [
        {
          "output_type": "execute_result",
          "data": {
            "text/plain": [
              "<matplotlib.collections.PathCollection at 0x7f0531833a10>"
            ]
          },
          "metadata": {
            "tags": []
          },
          "execution_count": 33
        },
        {
          "output_type": "display_data",
          "data": {
            "image/png": "[encoded data removed]",
            "text/plain": [
              "<Figure size 432x288 with 1 Axes>"
            ]
          },
          "metadata": {
            "tags": [],
            "needs_background": "light"
          }
        }
      ]
    },
    {
      "cell_type": "code",
      "metadata": {
        "colab": {
          "base_uri": "https://localhost:8080/",
          "height": 282
        },
        "id": "9uq40MkhaVar",
        "outputId": "af0516e4-3e92-43b9-d5f2-d080b2a8380a"
      },
      "source": [
        "plt.scatter(data.income,data.gdpp,c=y_kmeanscluster,cmap='rainbow')\n"
      ],
      "execution_count": 34,
      "outputs": [
        {
          "output_type": "execute_result",
          "data": {
            "text/plain": [
              "<matplotlib.collections.PathCollection at 0x7f053179b7d0>"
            ]
          },
          "metadata": {
            "tags": []
          },
          "execution_count": 34
        },
        {
          "output_type": "display_data",
          "data": {
            "image/png": "[encoded data removed]",
            "text/plain": [
              "<Figure size 432x288 with 1 Axes>"
            ]
          },
          "metadata": {
            "tags": [],
            "needs_background": "light"
          }
        }
      ]
    },
    {
      "cell_type": "code",
      "metadata": {
        "id": "TfLmju1BaYje"
      },
      "source": [
        ""
      ],
      "execution_count": null,
      "outputs": []
    }
  ]
}