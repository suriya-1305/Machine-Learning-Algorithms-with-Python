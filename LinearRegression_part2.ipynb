{
 "cells": [
  {
   "cell_type": "code",
   "execution_count": 19,
   "metadata": {},
   "outputs": [],
   "source": [
    "import numpy as np\n",
    "import pandas as pd\n",
    "import matplotlib.pyplot as plt\n",
    "from sklearn import linear_model as lm\n",
    "import seaborn as sb"
   ]
  },
  {
   "cell_type": "code",
   "execution_count": 3,
   "metadata": {},
   "outputs": [],
   "source": [
    "\n",
    "dataset = pd.read_csv('healthcare-dataset-stroke-data.csv')"
   ]
  },
  {
   "cell_type": "code",
   "execution_count": null,
   "metadata": {},
   "outputs": [],
   "source": [
    "#heart stroke data set https://www.kaggle.com/fedesoriano/stroke-prediction-dataset"
   ]
  },
  {
   "cell_type": "code",
   "execution_count": 4,
   "metadata": {},
   "outputs": [
    {
     "name": "stdout",
     "output_type": "stream",
     "text": [
      "<class 'pandas.core.frame.DataFrame'>\n",
      "RangeIndex: 5110 entries, 0 to 5109\n",
      "Data columns (total 12 columns):\n",
      "id                   5110 non-null int64\n",
      "gender               5110 non-null object\n",
      "age                  5110 non-null float64\n",
      "hypertension         5110 non-null int64\n",
      "heart_disease        5110 non-null int64\n",
      "ever_married         5110 non-null object\n",
      "work_type            5110 non-null object\n",
      "Residence_type       5110 non-null object\n",
      "avg_glucose_level    5110 non-null float64\n",
      "bmi                  4909 non-null float64\n",
      "smoking_status       5110 non-null object\n",
      "stroke               5110 non-null int64\n",
      "dtypes: float64(3), int64(4), object(5)\n",
      "memory usage: 479.1+ KB\n"
     ]
    }
   ],
   "source": [
    "dataset.info()\n"
   ]
  },
  {
   "cell_type": "code",
   "execution_count": 5,
   "metadata": {},
   "outputs": [
    {
     "data": {
      "text/html": [
       "<div>\n",
       "<style scoped>\n",
       "    .dataframe tbody tr th:only-of-type {\n",
       "        vertical-align: middle;\n",
       "    }\n",
       "\n",
       "    .dataframe tbody tr th {\n",
       "        vertical-align: top;\n",
       "    }\n",
       "\n",
       "    .dataframe thead th {\n",
       "        text-align: right;\n",
       "    }\n",
       "</style>\n",
       "<table border=\"1\" class=\"dataframe\">\n",
       "  <thead>\n",
       "    <tr style=\"text-align: right;\">\n",
       "      <th></th>\n",
       "      <th>id</th>\n",
       "      <th>age</th>\n",
       "      <th>hypertension</th>\n",
       "      <th>heart_disease</th>\n",
       "      <th>avg_glucose_level</th>\n",
       "      <th>bmi</th>\n",
       "      <th>stroke</th>\n",
       "    </tr>\n",
       "  </thead>\n",
       "  <tbody>\n",
       "    <tr>\n",
       "      <th>count</th>\n",
       "      <td>5110.000000</td>\n",
       "      <td>5110.000000</td>\n",
       "      <td>5110.000000</td>\n",
       "      <td>5110.000000</td>\n",
       "      <td>5110.000000</td>\n",
       "      <td>4909.000000</td>\n",
       "      <td>5110.000000</td>\n",
       "    </tr>\n",
       "    <tr>\n",
       "      <th>mean</th>\n",
       "      <td>36517.829354</td>\n",
       "      <td>43.226614</td>\n",
       "      <td>0.097456</td>\n",
       "      <td>0.054012</td>\n",
       "      <td>106.147677</td>\n",
       "      <td>28.893237</td>\n",
       "      <td>0.048728</td>\n",
       "    </tr>\n",
       "    <tr>\n",
       "      <th>std</th>\n",
       "      <td>21161.721625</td>\n",
       "      <td>22.612647</td>\n",
       "      <td>0.296607</td>\n",
       "      <td>0.226063</td>\n",
       "      <td>45.283560</td>\n",
       "      <td>7.854067</td>\n",
       "      <td>0.215320</td>\n",
       "    </tr>\n",
       "    <tr>\n",
       "      <th>min</th>\n",
       "      <td>67.000000</td>\n",
       "      <td>0.080000</td>\n",
       "      <td>0.000000</td>\n",
       "      <td>0.000000</td>\n",
       "      <td>55.120000</td>\n",
       "      <td>10.300000</td>\n",
       "      <td>0.000000</td>\n",
       "    </tr>\n",
       "    <tr>\n",
       "      <th>25%</th>\n",
       "      <td>17741.250000</td>\n",
       "      <td>25.000000</td>\n",
       "      <td>0.000000</td>\n",
       "      <td>0.000000</td>\n",
       "      <td>77.245000</td>\n",
       "      <td>23.500000</td>\n",
       "      <td>0.000000</td>\n",
       "    </tr>\n",
       "    <tr>\n",
       "      <th>50%</th>\n",
       "      <td>36932.000000</td>\n",
       "      <td>45.000000</td>\n",
       "      <td>0.000000</td>\n",
       "      <td>0.000000</td>\n",
       "      <td>91.885000</td>\n",
       "      <td>28.100000</td>\n",
       "      <td>0.000000</td>\n",
       "    </tr>\n",
       "    <tr>\n",
       "      <th>75%</th>\n",
       "      <td>54682.000000</td>\n",
       "      <td>61.000000</td>\n",
       "      <td>0.000000</td>\n",
       "      <td>0.000000</td>\n",
       "      <td>114.090000</td>\n",
       "      <td>33.100000</td>\n",
       "      <td>0.000000</td>\n",
       "    </tr>\n",
       "    <tr>\n",
       "      <th>max</th>\n",
       "      <td>72940.000000</td>\n",
       "      <td>82.000000</td>\n",
       "      <td>1.000000</td>\n",
       "      <td>1.000000</td>\n",
       "      <td>271.740000</td>\n",
       "      <td>97.600000</td>\n",
       "      <td>1.000000</td>\n",
       "    </tr>\n",
       "  </tbody>\n",
       "</table>\n",
       "</div>"
      ],
      "text/plain": [
       "                 id          age  hypertension  heart_disease  \\\n",
       "count   5110.000000  5110.000000   5110.000000    5110.000000   \n",
       "mean   36517.829354    43.226614      0.097456       0.054012   \n",
       "std    21161.721625    22.612647      0.296607       0.226063   \n",
       "min       67.000000     0.080000      0.000000       0.000000   \n",
       "25%    17741.250000    25.000000      0.000000       0.000000   \n",
       "50%    36932.000000    45.000000      0.000000       0.000000   \n",
       "75%    54682.000000    61.000000      0.000000       0.000000   \n",
       "max    72940.000000    82.000000      1.000000       1.000000   \n",
       "\n",
       "       avg_glucose_level          bmi       stroke  \n",
       "count        5110.000000  4909.000000  5110.000000  \n",
       "mean          106.147677    28.893237     0.048728  \n",
       "std            45.283560     7.854067     0.215320  \n",
       "min            55.120000    10.300000     0.000000  \n",
       "25%            77.245000    23.500000     0.000000  \n",
       "50%            91.885000    28.100000     0.000000  \n",
       "75%           114.090000    33.100000     0.000000  \n",
       "max           271.740000    97.600000     1.000000  "
      ]
     },
     "execution_count": 5,
     "metadata": {},
     "output_type": "execute_result"
    }
   ],
   "source": [
    "dataset.describe()"
   ]
  },
  {
   "cell_type": "code",
   "execution_count": 22,
   "metadata": {},
   "outputs": [
    {
     "data": {
      "text/plain": [
       "id                     0\n",
       "gender                 0\n",
       "age                    0\n",
       "hypertension           0\n",
       "heart_disease          0\n",
       "ever_married           0\n",
       "work_type              0\n",
       "Residence_type         0\n",
       "avg_glucose_level      0\n",
       "bmi                  201\n",
       "smoking_status         0\n",
       "stroke                 0\n",
       "dtype: int64"
      ]
     },
     "execution_count": 22,
     "metadata": {},
     "output_type": "execute_result"
    }
   ],
   "source": [
    "dataset.isnull().sum()"
   ]
  },
  {
   "cell_type": "code",
   "execution_count": 24,
   "metadata": {},
   "outputs": [],
   "source": [
    "med1=dataset[\"bmi\"].median()\n",
    "dataset[\"bmi\"].replace(np.nan,med1,inplace=True)"
   ]
  },
  {
   "cell_type": "code",
   "execution_count": 25,
   "metadata": {},
   "outputs": [
    {
     "data": {
      "text/plain": [
       "id                   0\n",
       "gender               0\n",
       "age                  0\n",
       "hypertension         0\n",
       "heart_disease        0\n",
       "ever_married         0\n",
       "work_type            0\n",
       "Residence_type       0\n",
       "avg_glucose_level    0\n",
       "bmi                  0\n",
       "smoking_status       0\n",
       "stroke               0\n",
       "dtype: int64"
      ]
     },
     "execution_count": 25,
     "metadata": {},
     "output_type": "execute_result"
    }
   ],
   "source": [
    "dataset.isnull().sum()"
   ]
  },
  {
   "cell_type": "code",
   "execution_count": 26,
   "metadata": {},
   "outputs": [
    {
     "name": "stderr",
     "output_type": "stream",
     "text": [
      "No handles with labels found to put in legend.\n"
     ]
    },
    {
     "data": {
      "image/png": "[encoded data removed]",
      "text/plain": [
       "<Figure size 432x288 with 1 Axes>"
      ]
     },
     "metadata": {
      "needs_background": "light"
     },
     "output_type": "display_data"
    }
   ],
   "source": [
    "plt.scatter(dataset['age'],dataset['bmi'])\n",
    "plt.title(\"stroke plot\")\n",
    "plt.legend()\n",
    "plt.xlabel(\"age\")\n",
    "plt.ylabel(\"bmi\")\n",
    "plt.show()"
   ]
  },
  {
   "cell_type": "code",
   "execution_count": 27,
   "metadata": {},
   "outputs": [
    {
     "data": {
      "text/plain": [
       "<matplotlib.axes._subplots.AxesSubplot at 0x7f5283f4e810>"
      ]
     },
     "execution_count": 27,
     "metadata": {},
     "output_type": "execute_result"
    },
    {
     "data": {
      "image/png": "[encoded data removed]",
      "text/plain": [
       "<Figure size 432x288 with 2 Axes>"
      ]
     },
     "metadata": {
      "needs_background": "light"
     },
     "output_type": "display_data"
    }
   ],
   "source": [
    "datasetcorr = dataset.corr()\n",
    "sb.heatmap(datasetcor,annot=True)"
   ]
  },
  {
   "cell_type": "code",
   "execution_count": 28,
   "metadata": {},
   "outputs": [],
   "source": [
    "linreg=lm.LinearRegression()\n",
    "train_x=dataset[['age']]\n",
    "train_y=dataset[['bmi']]"
   ]
  },
  {
   "cell_type": "code",
   "execution_count": 29,
   "metadata": {},
   "outputs": [
    {
     "name": "stdout",
     "output_type": "stream",
     "text": [
      "        age\n",
      "0     67.00\n",
      "1     61.00\n",
      "2     80.00\n",
      "3     49.00\n",
      "4     79.00\n",
      "5     81.00\n",
      "6     74.00\n",
      "7     69.00\n",
      "8     59.00\n",
      "9     78.00\n",
      "10    81.00\n",
      "11    61.00\n",
      "12    54.00\n",
      "13    78.00\n",
      "14    79.00\n",
      "15    50.00\n",
      "16    64.00\n",
      "17    75.00\n",
      "18    60.00\n",
      "19    57.00\n",
      "20    71.00\n",
      "21    52.00\n",
      "22    79.00\n",
      "23    82.00\n",
      "24    71.00\n",
      "25    80.00\n",
      "26    65.00\n",
      "27    58.00\n",
      "28    69.00\n",
      "29    59.00\n",
      "...     ...\n",
      "5080  29.00\n",
      "5081  55.00\n",
      "5082  44.00\n",
      "5083  19.00\n",
      "5084  67.00\n",
      "5085  72.00\n",
      "5086  51.00\n",
      "5087  63.00\n",
      "5088  64.00\n",
      "5089   0.72\n",
      "5090  26.00\n",
      "5091  59.00\n",
      "5092  76.00\n",
      "5093  45.00\n",
      "5094  13.00\n",
      "5095   1.08\n",
      "5096  57.00\n",
      "5097  68.00\n",
      "5098   9.00\n",
      "5099  40.00\n",
      "5100  82.00\n",
      "5101  45.00\n",
      "5102  57.00\n",
      "5103  18.00\n",
      "5104  13.00\n",
      "5105  80.00\n",
      "5106  81.00\n",
      "5107  35.00\n",
      "5108  51.00\n",
      "5109  44.00\n",
      "\n",
      "[5110 rows x 1 columns]\n",
      "       bmi\n",
      "0     36.6\n",
      "1     28.1\n",
      "2     32.5\n",
      "3     34.4\n",
      "4     24.0\n",
      "5     29.0\n",
      "6     27.4\n",
      "7     22.8\n",
      "8     28.1\n",
      "9     24.2\n",
      "10    29.7\n",
      "11    36.8\n",
      "12    27.3\n",
      "13    28.1\n",
      "14    28.2\n",
      "15    30.9\n",
      "16    37.5\n",
      "17    25.8\n",
      "18    37.8\n",
      "19    28.1\n",
      "20    22.4\n",
      "21    48.9\n",
      "22    26.6\n",
      "23    32.5\n",
      "24    27.2\n",
      "25    23.5\n",
      "26    28.2\n",
      "27    28.1\n",
      "28    28.3\n",
      "29    28.1\n",
      "...    ...\n",
      "5080  28.0\n",
      "5081  40.8\n",
      "5082  37.5\n",
      "5083  24.2\n",
      "5084  26.9\n",
      "5085  33.1\n",
      "5086  21.8\n",
      "5087  34.7\n",
      "5088  30.2\n",
      "5089  16.8\n",
      "5090  21.0\n",
      "5091  30.9\n",
      "5092  38.9\n",
      "5093  28.1\n",
      "5094  24.3\n",
      "5095  17.4\n",
      "5096  28.2\n",
      "5097  40.8\n",
      "5098  17.5\n",
      "5099  28.1\n",
      "5100  28.3\n",
      "5101  24.5\n",
      "5102  21.7\n",
      "5103  46.9\n",
      "5104  18.6\n",
      "5105  28.1\n",
      "5106  40.0\n",
      "5107  30.6\n",
      "5108  25.6\n",
      "5109  26.2\n",
      "\n",
      "[5110 rows x 1 columns]\n"
     ]
    }
   ],
   "source": [
    "print(train_x)\n",
    "print(train_y)"
   ]
  },
  {
   "cell_type": "code",
   "execution_count": 30,
   "metadata": {},
   "outputs": [
    {
     "name": "stdout",
     "output_type": "stream",
     "text": [
      "Coefficients:  [[0.11042206]]\n",
      "Intercept:  [24.08886357]\n"
     ]
    }
   ],
   "source": [
    "linreg.fit(train_x,train_y)\n",
    "print ('Coefficients: ',linreg.coef_)\n",
    "print ('Intercept: ',linreg.intercept_)"
   ]
  },
  {
   "cell_type": "code",
   "execution_count": 31,
   "metadata": {},
   "outputs": [
    {
     "data": {
      "image/png": "[encoded data removed]",
      "text/plain": [
       "<Figure size 432x288 with 1 Axes>"
      ]
     },
     "metadata": {
      "needs_background": "light"
     },
     "output_type": "display_data"
    }
   ],
   "source": [
    "plt.scatter(dataset[\"age\"],dataset[\"bmi\"],color='green',label=\"Actual\")\n",
    "plt.plot(train_x,linreg.coef_[0][0]*train_x+linreg.intercept_[0],'-b',label=\"Predicted\")\n",
    "plt.title(\"stroke analysis plot\")\n",
    "plt.legend()\n",
    "plt.xlabel(\"age\")\n",
    "plt.ylabel(\"Bmi\")\n",
    "plt.show()"
   ]
  },
  {
   "cell_type": "code",
   "execution_count": 37,
   "metadata": {},
   "outputs": [
    {
     "name": "stdout",
     "output_type": "stream",
     "text": [
      "[[31.48714134]\n",
      " [30.824609  ]\n",
      " [32.92262807]\n",
      " ...\n",
      " [27.95363554]\n",
      " [29.72038844]\n",
      " [28.94743404]]\n",
      "      id  gender   age  hypertension  heart_disease ever_married  \\\n",
      "0   9046    Male  67.0             0              1          Yes   \n",
      "1  51676  Female  61.0             0              0          Yes   \n",
      "2  31112    Male  80.0             0              1          Yes   \n",
      "3  60182  Female  49.0             0              0          Yes   \n",
      "4   1665  Female  79.0             1              0          Yes   \n",
      "\n",
      "       work_type Residence_type  avg_glucose_level   bmi   smoking_status  \\\n",
      "0        Private          Urban             228.69  36.6  formerly smoked   \n",
      "1  Self-employed          Rural             202.21  28.1     never smoked   \n",
      "2        Private          Rural             105.92  32.5     never smoked   \n",
      "3        Private          Urban             171.23  34.4           smokes   \n",
      "4  Self-employed          Rural             174.12  24.0     never smoked   \n",
      "\n",
      "   stroke    predict  \n",
      "0       1  31.487141  \n",
      "1       1  30.824609  \n",
      "2       1  32.922628  \n",
      "3       1  29.499544  \n",
      "4       1  32.812206  \n"
     ]
    }
   ],
   "source": [
    "y_predicted=linreg.predict(train_x)\n",
    "dataset['predict']=y_predicted\n",
    "print(y_predicted)\n",
    "print(dataset.head())"
   ]
  },
  {
   "cell_type": "code",
   "execution_count": 44,
   "metadata": {},
   "outputs": [
    {
     "name": "stdout",
     "output_type": "stream",
     "text": [
      "Mean Absolute Error: 5.43926916598539\n",
      "Mean Squared Error: 53.03819442727216\n",
      "Root Mean Squared Error: 7.282732620882917\n"
     ]
    }
   ],
   "source": [
    "from sklearn import metrics as met\n",
    "\n",
    "print('Mean Absolute Error:',met.mean_absolute_error(train_y,y_predicted))\n",
    "print('Mean Squared Error:',met.mean_squared_error(train_y,y_predicted))\n",
    "print('Root Mean Squared Error:',np.sqrt(met.mean_squared_error(train_y,y_predicted)))"
   ]
  },
  {
   "cell_type": "code",
   "execution_count": 45,
   "metadata": {},
   "outputs": [
    {
     "name": "stdout",
     "output_type": "stream",
     "text": [
      "Mean absolute error: bmi    5.439269\n",
      "dtype: float64\n",
      "Mean square error:  bmi    53.038194\n",
      "dtype: float64\n",
      "R2-score: 0.10516770093385697\n"
     ]
    }
   ],
   "source": [
    "from sklearn.metrics import r2_score as r2\n",
    "test_x=dataset[['age']]\n",
    "test_y=dataset[['bmi']]\n",
    "test_y_predicted=linreg.predict(test_x)\n",
    "\n",
    "print(\"Mean absolute error:\" ,np.mean(np.absolute(test_y_predicted - test_y)))\n",
    "print(\"Mean square error: \" ,np.mean((test_y_predicted - test_y) ** 2))\n",
    "print(\"R2-score:\" ,r2(test_y, test_y_predicted) )"
   ]
  },
  {
   "cell_type": "code",
   "execution_count": null,
   "metadata": {},
   "outputs": [],
   "source": []
  }
 ],
 "metadata": {
  "kernelspec": {
   "display_name": "Python 3",
   "language": "python",
   "name": "python3"
  },
  "language_info": {
   "codemirror_mode": {
    "name": "ipython",
    "version": 3
   },
   "file_extension": ".py",
   "mimetype": "text/x-python",
   "name": "python",
   "nbconvert_exporter": "python",
   "pygments_lexer": "ipython3",
   "version": "3.7.8"
  }
 },
 "nbformat": 4,
 "nbformat_minor": 4
}
