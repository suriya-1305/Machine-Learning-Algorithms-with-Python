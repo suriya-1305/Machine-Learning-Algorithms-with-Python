{
  "nbformat": 4,
  "nbformat_minor": 0,
  "metadata": {
    "colab": {
      "name": "19BAI1049_DA1_StudentsAcademicPerformance.ipynb",
      "provenance": []
    },
    "kernelspec": {
      "name": "python3",
      "display_name": "Python 3"
    },
    "language_info": {
      "name": "python"
    }
  },
  "cells": [
    {
      "cell_type": "markdown",
      "metadata": {
        "id": "9nIGgmmIrqtL"
      },
      "source": [
        "\n",
        " **students academic performance** "
      ]
    },
    {
      "cell_type": "code",
      "metadata": {
        "id": "hngFzmXlpL2p"
      },
      "source": [
        "##dataset:https://www.kaggle.com/aljarah/xAPI-Edu-Data/download"
      ],
      "execution_count": null,
      "outputs": []
    },
    {
      "cell_type": "markdown",
      "metadata": {
        "id": "eCCCkDShpkV-"
      },
      "source": [
        "importing necessary packages"
      ]
    },
    {
      "cell_type": "code",
      "metadata": {
        "id": "8pEd8OPorZdj"
      },
      "source": [
        "import pandas as pd\n",
        "import numpy as np\n",
        "import matplotlib.pyplot as plt\n",
        "import seaborn as sns\n",
        "from sklearn import metrics as met\n",
        "from sklearn.model_selection import train_test_split\n",
        "from sklearn.linear_model import LogisticRegression\n",
        "from sklearn.tree import DecisionTreeClassifier\n",
        "from sklearn.naive_bayes import GaussianNB\n",
        "from sklearn.neural_network import MLPClassifier\n",
        "from sklearn.neighbors import KNeighborsClassifier\n",
        "from sklearn.metrics import accuracy_score,classification_report,confusion_matrix\n",
        "%matplotlib inline"
      ],
      "execution_count": null,
      "outputs": []
    },
    {
      "cell_type": "code",
      "metadata": {
        "id": "wGpBkL1Q8kry"
      },
      "source": [
        "dataset=pd.read_csv('xAPI-Edu-Data.csv')"
      ],
      "execution_count": null,
      "outputs": []
    },
    {
      "cell_type": "code",
      "metadata": {
        "colab": {
          "base_uri": "https://localhost:8080/",
          "height": 426
        },
        "id": "kWywQB3FHtpH",
        "outputId": "5deaefa9-6fb7-449c-a0d0-cb222b132d0a"
      },
      "source": [
        "dataset"
      ],
      "execution_count": null,
      "outputs": [
        {
          "output_type": "execute_result",
          "data": {
            "text/html": [
              "<div>\n",
              "<style scoped>\n",
              "    .dataframe tbody tr th:only-of-type {\n",
              "        vertical-align: middle;\n",
              "    }\n",
              "\n",
              "    .dataframe tbody tr th {\n",
              "        vertical-align: top;\n",
              "    }\n",
              "\n",
              "    .dataframe thead th {\n",
              "        text-align: right;\n",
              "    }\n",
              "</style>\n",
              "<table border=\"1\" class=\"dataframe\">\n",
              "  <thead>\n",
              "    <tr style=\"text-align: right;\">\n",
              "      <th></th>\n",
              "      <th>gender</th>\n",
              "      <th>NationalITy</th>\n",
              "      <th>PlaceofBirth</th>\n",
              "      <th>StageID</th>\n",
              "      <th>GradeID</th>\n",
              "      <th>SectionID</th>\n",
              "      <th>Topic</th>\n",
              "      <th>Semester</th>\n",
              "      <th>Relation</th>\n",
              "      <th>raisedhands</th>\n",
              "      <th>VisITedResources</th>\n",
              "      <th>AnnouncementsView</th>\n",
              "      <th>Discussion</th>\n",
              "      <th>ParentAnsweringSurvey</th>\n",
              "      <th>ParentschoolSatisfaction</th>\n",
              "      <th>StudentAbsenceDays</th>\n",
              "      <th>Class</th>\n",
              "    </tr>\n",
              "  </thead>\n",
              "  <tbody>\n",
              "    <tr>\n",
              "      <th>0</th>\n",
              "      <td>M</td>\n",
              "      <td>KW</td>\n",
              "      <td>KuwaIT</td>\n",
              "      <td>lowerlevel</td>\n",
              "      <td>G-04</td>\n",
              "      <td>A</td>\n",
              "      <td>IT</td>\n",
              "      <td>F</td>\n",
              "      <td>Father</td>\n",
              "      <td>15</td>\n",
              "      <td>16</td>\n",
              "      <td>2</td>\n",
              "      <td>20</td>\n",
              "      <td>Yes</td>\n",
              "      <td>Good</td>\n",
              "      <td>Under-7</td>\n",
              "      <td>M</td>\n",
              "    </tr>\n",
              "    <tr>\n",
              "      <th>1</th>\n",
              "      <td>M</td>\n",
              "      <td>KW</td>\n",
              "      <td>KuwaIT</td>\n",
              "      <td>lowerlevel</td>\n",
              "      <td>G-04</td>\n",
              "      <td>A</td>\n",
              "      <td>IT</td>\n",
              "      <td>F</td>\n",
              "      <td>Father</td>\n",
              "      <td>20</td>\n",
              "      <td>20</td>\n",
              "      <td>3</td>\n",
              "      <td>25</td>\n",
              "      <td>Yes</td>\n",
              "      <td>Good</td>\n",
              "      <td>Under-7</td>\n",
              "      <td>M</td>\n",
              "    </tr>\n",
              "    <tr>\n",
              "      <th>2</th>\n",
              "      <td>M</td>\n",
              "      <td>KW</td>\n",
              "      <td>KuwaIT</td>\n",
              "      <td>lowerlevel</td>\n",
              "      <td>G-04</td>\n",
              "      <td>A</td>\n",
              "      <td>IT</td>\n",
              "      <td>F</td>\n",
              "      <td>Father</td>\n",
              "      <td>10</td>\n",
              "      <td>7</td>\n",
              "      <td>0</td>\n",
              "      <td>30</td>\n",
              "      <td>No</td>\n",
              "      <td>Bad</td>\n",
              "      <td>Above-7</td>\n",
              "      <td>L</td>\n",
              "    </tr>\n",
              "    <tr>\n",
              "      <th>3</th>\n",
              "      <td>M</td>\n",
              "      <td>KW</td>\n",
              "      <td>KuwaIT</td>\n",
              "      <td>lowerlevel</td>\n",
              "      <td>G-04</td>\n",
              "      <td>A</td>\n",
              "      <td>IT</td>\n",
              "      <td>F</td>\n",
              "      <td>Father</td>\n",
              "      <td>30</td>\n",
              "      <td>25</td>\n",
              "      <td>5</td>\n",
              "      <td>35</td>\n",
              "      <td>No</td>\n",
              "      <td>Bad</td>\n",
              "      <td>Above-7</td>\n",
              "      <td>L</td>\n",
              "    </tr>\n",
              "    <tr>\n",
              "      <th>4</th>\n",
              "      <td>M</td>\n",
              "      <td>KW</td>\n",
              "      <td>KuwaIT</td>\n",
              "      <td>lowerlevel</td>\n",
              "      <td>G-04</td>\n",
              "      <td>A</td>\n",
              "      <td>IT</td>\n",
              "      <td>F</td>\n",
              "      <td>Father</td>\n",
              "      <td>40</td>\n",
              "      <td>50</td>\n",
              "      <td>12</td>\n",
              "      <td>50</td>\n",
              "      <td>No</td>\n",
              "      <td>Bad</td>\n",
              "      <td>Above-7</td>\n",
              "      <td>M</td>\n",
              "    </tr>\n",
              "    <tr>\n",
              "      <th>...</th>\n",
              "      <td>...</td>\n",
              "      <td>...</td>\n",
              "      <td>...</td>\n",
              "      <td>...</td>\n",
              "      <td>...</td>\n",
              "      <td>...</td>\n",
              "      <td>...</td>\n",
              "      <td>...</td>\n",
              "      <td>...</td>\n",
              "      <td>...</td>\n",
              "      <td>...</td>\n",
              "      <td>...</td>\n",
              "      <td>...</td>\n",
              "      <td>...</td>\n",
              "      <td>...</td>\n",
              "      <td>...</td>\n",
              "      <td>...</td>\n",
              "    </tr>\n",
              "    <tr>\n",
              "      <th>475</th>\n",
              "      <td>F</td>\n",
              "      <td>Jordan</td>\n",
              "      <td>Jordan</td>\n",
              "      <td>MiddleSchool</td>\n",
              "      <td>G-08</td>\n",
              "      <td>A</td>\n",
              "      <td>Chemistry</td>\n",
              "      <td>S</td>\n",
              "      <td>Father</td>\n",
              "      <td>5</td>\n",
              "      <td>4</td>\n",
              "      <td>5</td>\n",
              "      <td>8</td>\n",
              "      <td>No</td>\n",
              "      <td>Bad</td>\n",
              "      <td>Above-7</td>\n",
              "      <td>L</td>\n",
              "    </tr>\n",
              "    <tr>\n",
              "      <th>476</th>\n",
              "      <td>F</td>\n",
              "      <td>Jordan</td>\n",
              "      <td>Jordan</td>\n",
              "      <td>MiddleSchool</td>\n",
              "      <td>G-08</td>\n",
              "      <td>A</td>\n",
              "      <td>Geology</td>\n",
              "      <td>F</td>\n",
              "      <td>Father</td>\n",
              "      <td>50</td>\n",
              "      <td>77</td>\n",
              "      <td>14</td>\n",
              "      <td>28</td>\n",
              "      <td>No</td>\n",
              "      <td>Bad</td>\n",
              "      <td>Under-7</td>\n",
              "      <td>M</td>\n",
              "    </tr>\n",
              "    <tr>\n",
              "      <th>477</th>\n",
              "      <td>F</td>\n",
              "      <td>Jordan</td>\n",
              "      <td>Jordan</td>\n",
              "      <td>MiddleSchool</td>\n",
              "      <td>G-08</td>\n",
              "      <td>A</td>\n",
              "      <td>Geology</td>\n",
              "      <td>S</td>\n",
              "      <td>Father</td>\n",
              "      <td>55</td>\n",
              "      <td>74</td>\n",
              "      <td>25</td>\n",
              "      <td>29</td>\n",
              "      <td>No</td>\n",
              "      <td>Bad</td>\n",
              "      <td>Under-7</td>\n",
              "      <td>M</td>\n",
              "    </tr>\n",
              "    <tr>\n",
              "      <th>478</th>\n",
              "      <td>F</td>\n",
              "      <td>Jordan</td>\n",
              "      <td>Jordan</td>\n",
              "      <td>MiddleSchool</td>\n",
              "      <td>G-08</td>\n",
              "      <td>A</td>\n",
              "      <td>History</td>\n",
              "      <td>F</td>\n",
              "      <td>Father</td>\n",
              "      <td>30</td>\n",
              "      <td>17</td>\n",
              "      <td>14</td>\n",
              "      <td>57</td>\n",
              "      <td>No</td>\n",
              "      <td>Bad</td>\n",
              "      <td>Above-7</td>\n",
              "      <td>L</td>\n",
              "    </tr>\n",
              "    <tr>\n",
              "      <th>479</th>\n",
              "      <td>F</td>\n",
              "      <td>Jordan</td>\n",
              "      <td>Jordan</td>\n",
              "      <td>MiddleSchool</td>\n",
              "      <td>G-08</td>\n",
              "      <td>A</td>\n",
              "      <td>History</td>\n",
              "      <td>S</td>\n",
              "      <td>Father</td>\n",
              "      <td>35</td>\n",
              "      <td>14</td>\n",
              "      <td>23</td>\n",
              "      <td>62</td>\n",
              "      <td>No</td>\n",
              "      <td>Bad</td>\n",
              "      <td>Above-7</td>\n",
              "      <td>L</td>\n",
              "    </tr>\n",
              "  </tbody>\n",
              "</table>\n",
              "<p>480 rows × 17 columns</p>\n",
              "</div>"
            ],
            "text/plain": [
              "    gender NationalITy  ... StudentAbsenceDays Class\n",
              "0        M          KW  ...            Under-7     M\n",
              "1        M          KW  ...            Under-7     M\n",
              "2        M          KW  ...            Above-7     L\n",
              "3        M          KW  ...            Above-7     L\n",
              "4        M          KW  ...            Above-7     M\n",
              "..     ...         ...  ...                ...   ...\n",
              "475      F      Jordan  ...            Above-7     L\n",
              "476      F      Jordan  ...            Under-7     M\n",
              "477      F      Jordan  ...            Under-7     M\n",
              "478      F      Jordan  ...            Above-7     L\n",
              "479      F      Jordan  ...            Above-7     L\n",
              "\n",
              "[480 rows x 17 columns]"
            ]
          },
          "metadata": {
            "tags": []
          },
          "execution_count": 166
        }
      ]
    },
    {
      "cell_type": "code",
      "metadata": {
        "id": "s7CRqR07Alp4",
        "colab": {
          "base_uri": "https://localhost:8080/",
          "height": 217
        },
        "outputId": "8551a026-4205-4965-8615-3638d805368e"
      },
      "source": [
        "dataset.head()"
      ],
      "execution_count": null,
      "outputs": [
        {
          "output_type": "execute_result",
          "data": {
            "text/html": [
              "<div>\n",
              "<style scoped>\n",
              "    .dataframe tbody tr th:only-of-type {\n",
              "        vertical-align: middle;\n",
              "    }\n",
              "\n",
              "    .dataframe tbody tr th {\n",
              "        vertical-align: top;\n",
              "    }\n",
              "\n",
              "    .dataframe thead th {\n",
              "        text-align: right;\n",
              "    }\n",
              "</style>\n",
              "<table border=\"1\" class=\"dataframe\">\n",
              "  <thead>\n",
              "    <tr style=\"text-align: right;\">\n",
              "      <th></th>\n",
              "      <th>gender</th>\n",
              "      <th>NationalITy</th>\n",
              "      <th>PlaceofBirth</th>\n",
              "      <th>StageID</th>\n",
              "      <th>GradeID</th>\n",
              "      <th>SectionID</th>\n",
              "      <th>Topic</th>\n",
              "      <th>Semester</th>\n",
              "      <th>Relation</th>\n",
              "      <th>raisedhands</th>\n",
              "      <th>VisITedResources</th>\n",
              "      <th>AnnouncementsView</th>\n",
              "      <th>Discussion</th>\n",
              "      <th>ParentAnsweringSurvey</th>\n",
              "      <th>ParentschoolSatisfaction</th>\n",
              "      <th>StudentAbsenceDays</th>\n",
              "      <th>Class</th>\n",
              "    </tr>\n",
              "  </thead>\n",
              "  <tbody>\n",
              "    <tr>\n",
              "      <th>0</th>\n",
              "      <td>M</td>\n",
              "      <td>KW</td>\n",
              "      <td>KuwaIT</td>\n",
              "      <td>lowerlevel</td>\n",
              "      <td>G-04</td>\n",
              "      <td>A</td>\n",
              "      <td>IT</td>\n",
              "      <td>F</td>\n",
              "      <td>Father</td>\n",
              "      <td>15</td>\n",
              "      <td>16</td>\n",
              "      <td>2</td>\n",
              "      <td>20</td>\n",
              "      <td>Yes</td>\n",
              "      <td>Good</td>\n",
              "      <td>Under-7</td>\n",
              "      <td>M</td>\n",
              "    </tr>\n",
              "    <tr>\n",
              "      <th>1</th>\n",
              "      <td>M</td>\n",
              "      <td>KW</td>\n",
              "      <td>KuwaIT</td>\n",
              "      <td>lowerlevel</td>\n",
              "      <td>G-04</td>\n",
              "      <td>A</td>\n",
              "      <td>IT</td>\n",
              "      <td>F</td>\n",
              "      <td>Father</td>\n",
              "      <td>20</td>\n",
              "      <td>20</td>\n",
              "      <td>3</td>\n",
              "      <td>25</td>\n",
              "      <td>Yes</td>\n",
              "      <td>Good</td>\n",
              "      <td>Under-7</td>\n",
              "      <td>M</td>\n",
              "    </tr>\n",
              "    <tr>\n",
              "      <th>2</th>\n",
              "      <td>M</td>\n",
              "      <td>KW</td>\n",
              "      <td>KuwaIT</td>\n",
              "      <td>lowerlevel</td>\n",
              "      <td>G-04</td>\n",
              "      <td>A</td>\n",
              "      <td>IT</td>\n",
              "      <td>F</td>\n",
              "      <td>Father</td>\n",
              "      <td>10</td>\n",
              "      <td>7</td>\n",
              "      <td>0</td>\n",
              "      <td>30</td>\n",
              "      <td>No</td>\n",
              "      <td>Bad</td>\n",
              "      <td>Above-7</td>\n",
              "      <td>L</td>\n",
              "    </tr>\n",
              "    <tr>\n",
              "      <th>3</th>\n",
              "      <td>M</td>\n",
              "      <td>KW</td>\n",
              "      <td>KuwaIT</td>\n",
              "      <td>lowerlevel</td>\n",
              "      <td>G-04</td>\n",
              "      <td>A</td>\n",
              "      <td>IT</td>\n",
              "      <td>F</td>\n",
              "      <td>Father</td>\n",
              "      <td>30</td>\n",
              "      <td>25</td>\n",
              "      <td>5</td>\n",
              "      <td>35</td>\n",
              "      <td>No</td>\n",
              "      <td>Bad</td>\n",
              "      <td>Above-7</td>\n",
              "      <td>L</td>\n",
              "    </tr>\n",
              "    <tr>\n",
              "      <th>4</th>\n",
              "      <td>M</td>\n",
              "      <td>KW</td>\n",
              "      <td>KuwaIT</td>\n",
              "      <td>lowerlevel</td>\n",
              "      <td>G-04</td>\n",
              "      <td>A</td>\n",
              "      <td>IT</td>\n",
              "      <td>F</td>\n",
              "      <td>Father</td>\n",
              "      <td>40</td>\n",
              "      <td>50</td>\n",
              "      <td>12</td>\n",
              "      <td>50</td>\n",
              "      <td>No</td>\n",
              "      <td>Bad</td>\n",
              "      <td>Above-7</td>\n",
              "      <td>M</td>\n",
              "    </tr>\n",
              "  </tbody>\n",
              "</table>\n",
              "</div>"
            ],
            "text/plain": [
              "  gender NationalITy  ... StudentAbsenceDays Class\n",
              "0      M          KW  ...            Under-7     M\n",
              "1      M          KW  ...            Under-7     M\n",
              "2      M          KW  ...            Above-7     L\n",
              "3      M          KW  ...            Above-7     L\n",
              "4      M          KW  ...            Above-7     M\n",
              "\n",
              "[5 rows x 17 columns]"
            ]
          },
          "metadata": {
            "tags": []
          },
          "execution_count": 167
        }
      ]
    },
    {
      "cell_type": "code",
      "metadata": {
        "colab": {
          "base_uri": "https://localhost:8080/"
        },
        "id": "BY3_-0Ddt-xH",
        "outputId": "3f668d82-1749-41a8-f9ad-fad7a7495740"
      },
      "source": [
        "dataset.shape"
      ],
      "execution_count": null,
      "outputs": [
        {
          "output_type": "execute_result",
          "data": {
            "text/plain": [
              "(480, 17)"
            ]
          },
          "metadata": {
            "tags": []
          },
          "execution_count": 168
        }
      ]
    },
    {
      "cell_type": "code",
      "metadata": {
        "colab": {
          "base_uri": "https://localhost:8080/"
        },
        "id": "jiV5sYiLuwDU",
        "outputId": "8f541fb9-0b33-4af7-ec3f-d7618126ff0a"
      },
      "source": [
        "dataset.info"
      ],
      "execution_count": null,
      "outputs": [
        {
          "output_type": "execute_result",
          "data": {
            "text/plain": [
              "<bound method DataFrame.info of     gender NationalITy  ... StudentAbsenceDays Class\n",
              "0        M          KW  ...            Under-7     M\n",
              "1        M          KW  ...            Under-7     M\n",
              "2        M          KW  ...            Above-7     L\n",
              "3        M          KW  ...            Above-7     L\n",
              "4        M          KW  ...            Above-7     M\n",
              "..     ...         ...  ...                ...   ...\n",
              "475      F      Jordan  ...            Above-7     L\n",
              "476      F      Jordan  ...            Under-7     M\n",
              "477      F      Jordan  ...            Under-7     M\n",
              "478      F      Jordan  ...            Above-7     L\n",
              "479      F      Jordan  ...            Above-7     L\n",
              "\n",
              "[480 rows x 17 columns]>"
            ]
          },
          "metadata": {
            "tags": []
          },
          "execution_count": 169
        }
      ]
    },
    {
      "cell_type": "markdown",
      "metadata": {
        "id": "ebRTKkzNpt3h"
      },
      "source": [
        "checking for no of unique values in the attributes"
      ]
    },
    {
      "cell_type": "code",
      "metadata": {
        "colab": {
          "base_uri": "https://localhost:8080/"
        },
        "id": "Gt8rCVdevs7R",
        "outputId": "84c40ae1-a278-4a3e-e228-7178f216b68f"
      },
      "source": [
        "dataset.nunique()"
      ],
      "execution_count": null,
      "outputs": [
        {
          "output_type": "execute_result",
          "data": {
            "text/plain": [
              "gender                       2\n",
              "NationalITy                 14\n",
              "PlaceofBirth                14\n",
              "StageID                      3\n",
              "GradeID                     10\n",
              "SectionID                    3\n",
              "Topic                       12\n",
              "Semester                     2\n",
              "Relation                     2\n",
              "raisedhands                 82\n",
              "VisITedResources            89\n",
              "AnnouncementsView           88\n",
              "Discussion                  90\n",
              "ParentAnsweringSurvey        2\n",
              "ParentschoolSatisfaction     2\n",
              "StudentAbsenceDays           2\n",
              "Class                        3\n",
              "dtype: int64"
            ]
          },
          "metadata": {
            "tags": []
          },
          "execution_count": 170
        }
      ]
    },
    {
      "cell_type": "code",
      "metadata": {
        "colab": {
          "base_uri": "https://localhost:8080/"
        },
        "id": "Yj-NIYPFv1Z9",
        "outputId": "5c069e7d-f8ed-4442-b8cc-ee87436d96f8"
      },
      "source": [
        "dataset.isnull().sum()"
      ],
      "execution_count": null,
      "outputs": [
        {
          "output_type": "execute_result",
          "data": {
            "text/plain": [
              "gender                      0\n",
              "NationalITy                 0\n",
              "PlaceofBirth                0\n",
              "StageID                     0\n",
              "GradeID                     0\n",
              "SectionID                   0\n",
              "Topic                       0\n",
              "Semester                    0\n",
              "Relation                    0\n",
              "raisedhands                 0\n",
              "VisITedResources            0\n",
              "AnnouncementsView           0\n",
              "Discussion                  0\n",
              "ParentAnsweringSurvey       0\n",
              "ParentschoolSatisfaction    0\n",
              "StudentAbsenceDays          0\n",
              "Class                       0\n",
              "dtype: int64"
            ]
          },
          "metadata": {
            "tags": []
          },
          "execution_count": 171
        }
      ]
    },
    {
      "cell_type": "code",
      "metadata": {
        "colab": {
          "base_uri": "https://localhost:8080/",
          "height": 167
        },
        "id": "X_V5x01lN0or",
        "outputId": "2008525d-acb9-4ccd-9279-39c3857e73c5"
      },
      "source": [
        "dataset.corr()"
      ],
      "execution_count": null,
      "outputs": [
        {
          "output_type": "execute_result",
          "data": {
            "text/html": [
              "<div>\n",
              "<style scoped>\n",
              "    .dataframe tbody tr th:only-of-type {\n",
              "        vertical-align: middle;\n",
              "    }\n",
              "\n",
              "    .dataframe tbody tr th {\n",
              "        vertical-align: top;\n",
              "    }\n",
              "\n",
              "    .dataframe thead th {\n",
              "        text-align: right;\n",
              "    }\n",
              "</style>\n",
              "<table border=\"1\" class=\"dataframe\">\n",
              "  <thead>\n",
              "    <tr style=\"text-align: right;\">\n",
              "      <th></th>\n",
              "      <th>raisedhands</th>\n",
              "      <th>VisITedResources</th>\n",
              "      <th>AnnouncementsView</th>\n",
              "      <th>Discussion</th>\n",
              "    </tr>\n",
              "  </thead>\n",
              "  <tbody>\n",
              "    <tr>\n",
              "      <th>raisedhands</th>\n",
              "      <td>1.000000</td>\n",
              "      <td>0.691572</td>\n",
              "      <td>0.643918</td>\n",
              "      <td>0.339386</td>\n",
              "    </tr>\n",
              "    <tr>\n",
              "      <th>VisITedResources</th>\n",
              "      <td>0.691572</td>\n",
              "      <td>1.000000</td>\n",
              "      <td>0.594500</td>\n",
              "      <td>0.243292</td>\n",
              "    </tr>\n",
              "    <tr>\n",
              "      <th>AnnouncementsView</th>\n",
              "      <td>0.643918</td>\n",
              "      <td>0.594500</td>\n",
              "      <td>1.000000</td>\n",
              "      <td>0.417290</td>\n",
              "    </tr>\n",
              "    <tr>\n",
              "      <th>Discussion</th>\n",
              "      <td>0.339386</td>\n",
              "      <td>0.243292</td>\n",
              "      <td>0.417290</td>\n",
              "      <td>1.000000</td>\n",
              "    </tr>\n",
              "  </tbody>\n",
              "</table>\n",
              "</div>"
            ],
            "text/plain": [
              "                   raisedhands  VisITedResources  AnnouncementsView  Discussion\n",
              "raisedhands           1.000000          0.691572           0.643918    0.339386\n",
              "VisITedResources      0.691572          1.000000           0.594500    0.243292\n",
              "AnnouncementsView     0.643918          0.594500           1.000000    0.417290\n",
              "Discussion            0.339386          0.243292           0.417290    1.000000"
            ]
          },
          "metadata": {
            "tags": []
          },
          "execution_count": 172
        }
      ]
    },
    {
      "cell_type": "code",
      "metadata": {
        "colab": {
          "base_uri": "https://localhost:8080/",
          "height": 613
        },
        "id": "YE1yCvF3N8dZ",
        "outputId": "50e363bf-72a0-4cda-e977-9ae369bc6839"
      },
      "source": [
        "plt.figure(figsize=(10,10))\n",
        "sns.heatmap(dataset.corr())"
      ],
      "execution_count": null,
      "outputs": [
        {
          "output_type": "execute_result",
          "data": {
            "text/plain": [
              "<matplotlib.axes._subplots.AxesSubplot at 0x7fc6eb00af50>"
            ]
          },
          "metadata": {
            "tags": []
          },
          "execution_count": 173
        },
        {
          "output_type": "display_data",
          "data": {
            "image/png": "[encoded data removed]",
            "text/plain": [
              "<Figure size 720x720 with 2 Axes>"
            ]
          },
          "metadata": {
            "tags": [],
            "needs_background": "light"
          }
        }
      ]
    },
    {
      "cell_type": "markdown",
      "metadata": {
        "id": "8adNLJREStHI"
      },
      "source": [
        "changing Categorical value to numerical value"
      ]
    },
    {
      "cell_type": "code",
      "metadata": {
        "id": "FVNuCPnxwwhZ",
        "colab": {
          "base_uri": "https://localhost:8080/"
        },
        "outputId": "0219eca8-9978-4c14-9b20-738acf2d427c"
      },
      "source": [
        "dataset['gender'].unique()"
      ],
      "execution_count": null,
      "outputs": [
        {
          "output_type": "execute_result",
          "data": {
            "text/plain": [
              "array(['M', 'F'], dtype=object)"
            ]
          },
          "metadata": {
            "tags": []
          },
          "execution_count": 174
        }
      ]
    },
    {
      "cell_type": "code",
      "metadata": {
        "id": "JHPGtbptJJFj"
      },
      "source": [
        "gender = {'M': 1,'F': 2}\n",
        "dataset.gender = [gender[item] for item in dataset.gender]"
      ],
      "execution_count": null,
      "outputs": []
    },
    {
      "cell_type": "code",
      "metadata": {
        "colab": {
          "base_uri": "https://localhost:8080/"
        },
        "id": "zYetRhLJJz-9",
        "outputId": "4a6a70bb-6ed4-4ebf-c53f-9e9532a66d67"
      },
      "source": [
        "dataset['gender'].unique()"
      ],
      "execution_count": null,
      "outputs": [
        {
          "output_type": "execute_result",
          "data": {
            "text/plain": [
              "array([1, 2])"
            ]
          },
          "metadata": {
            "tags": []
          },
          "execution_count": 176
        }
      ]
    },
    {
      "cell_type": "code",
      "metadata": {
        "colab": {
          "base_uri": "https://localhost:8080/"
        },
        "id": "lAZ3h0vIE2PU",
        "outputId": "95e4de01-6524-4409-be0a-1b70d6a704a0"
      },
      "source": [
        "dataset['PlaceofBirth'].unique()"
      ],
      "execution_count": null,
      "outputs": [
        {
          "output_type": "execute_result",
          "data": {
            "text/plain": [
              "array(['KuwaIT', 'lebanon', 'Egypt', 'SaudiArabia', 'USA', 'Jordan',\n",
              "       'venzuela', 'Iran', 'Tunis', 'Morocco', 'Syria', 'Iraq',\n",
              "       'Palestine', 'Lybia'], dtype=object)"
            ]
          },
          "metadata": {
            "tags": []
          },
          "execution_count": 177
        }
      ]
    },
    {
      "cell_type": "code",
      "metadata": {
        "colab": {
          "base_uri": "https://localhost:8080/"
        },
        "id": "vjUkvYUjIDn1",
        "outputId": "2d572dac-0797-43bd-8a1c-71cbef327b7b"
      },
      "source": [
        "dataset['NationalITy'].unique()"
      ],
      "execution_count": null,
      "outputs": [
        {
          "output_type": "execute_result",
          "data": {
            "text/plain": [
              "array(['KW', 'lebanon', 'Egypt', 'SaudiArabia', 'USA', 'Jordan',\n",
              "       'venzuela', 'Iran', 'Tunis', 'Morocco', 'Syria', 'Palestine',\n",
              "       'Iraq', 'Lybia'], dtype=object)"
            ]
          },
          "metadata": {
            "tags": []
          },
          "execution_count": 178
        }
      ]
    },
    {
      "cell_type": "code",
      "metadata": {
        "id": "wsgub7zdILsH"
      },
      "source": [
        "dataset.drop('NationalITy', axis=1, inplace=True)"
      ],
      "execution_count": null,
      "outputs": []
    },
    {
      "cell_type": "code",
      "metadata": {
        "id": "sL1g60R7VwIE"
      },
      "source": [
        "PlaceofBirth = {'KuwaIT': 1,'lebanon': 2,'Egypt':3,'SaudiArabia':4,'USA':5,'Quran':6,'Jordan':7,'venzuela':8,'Iran':9,'Tunis':10,'Morocco':11,'Syria':12,'Palestine':13,'Iraq':14,'Lybia':15}\n",
        "dataset.PlaceofBirth = [PlaceofBirth[item] for item in dataset.PlaceofBirth]"
      ],
      "execution_count": null,
      "outputs": []
    },
    {
      "cell_type": "code",
      "metadata": {
        "colab": {
          "base_uri": "https://localhost:8080/"
        },
        "id": "xMvx7srxWYiY",
        "outputId": "ceb3bc2b-06a6-473c-9929-8592b93730ae"
      },
      "source": [
        "dataset['PlaceofBirth'].unique()"
      ],
      "execution_count": null,
      "outputs": [
        {
          "output_type": "execute_result",
          "data": {
            "text/plain": [
              "array([ 1,  2,  3,  4,  5,  7,  8,  9, 10, 11, 12, 14, 13, 15])"
            ]
          },
          "metadata": {
            "tags": []
          },
          "execution_count": 181
        }
      ]
    },
    {
      "cell_type": "code",
      "metadata": {
        "colab": {
          "base_uri": "https://localhost:8080/"
        },
        "id": "RwzO1-24IrOt",
        "outputId": "0ab17404-7ff1-418e-cbab-6a70a8fb9b67"
      },
      "source": [
        "dataset.shape"
      ],
      "execution_count": null,
      "outputs": [
        {
          "output_type": "execute_result",
          "data": {
            "text/plain": [
              "(480, 16)"
            ]
          },
          "metadata": {
            "tags": []
          },
          "execution_count": 182
        }
      ]
    },
    {
      "cell_type": "code",
      "metadata": {
        "colab": {
          "base_uri": "https://localhost:8080/"
        },
        "id": "JmEVQNHAI9d8",
        "outputId": "e3b49219-05bd-4994-fd29-503bd1c7beb5"
      },
      "source": [
        "dataset['StageID'].unique()"
      ],
      "execution_count": null,
      "outputs": [
        {
          "output_type": "execute_result",
          "data": {
            "text/plain": [
              "array(['lowerlevel', 'MiddleSchool', 'HighSchool'], dtype=object)"
            ]
          },
          "metadata": {
            "tags": []
          },
          "execution_count": 183
        }
      ]
    },
    {
      "cell_type": "code",
      "metadata": {
        "id": "a5MKr4f2K3oY"
      },
      "source": [
        "StageID = {'lowerlevel': 1,'MiddleSchool': 2,'HighSchool':3}\n",
        "dataset.StageID = [StageID[item] for item in dataset.StageID]"
      ],
      "execution_count": null,
      "outputs": []
    },
    {
      "cell_type": "code",
      "metadata": {
        "colab": {
          "base_uri": "https://localhost:8080/"
        },
        "id": "XnxZ-1MBLG7W",
        "outputId": "d77f3ff0-6d7d-4345-a840-8ab0700f40f9"
      },
      "source": [
        "dataset['StageID'].unique()"
      ],
      "execution_count": null,
      "outputs": [
        {
          "output_type": "execute_result",
          "data": {
            "text/plain": [
              "array([1, 2, 3])"
            ]
          },
          "metadata": {
            "tags": []
          },
          "execution_count": 185
        }
      ]
    },
    {
      "cell_type": "code",
      "metadata": {
        "colab": {
          "base_uri": "https://localhost:8080/"
        },
        "id": "7QiL0N6tLPJv",
        "outputId": "168dca99-ac05-418e-ce80-8cb3bade359f"
      },
      "source": [
        "dataset['GradeID'].unique()"
      ],
      "execution_count": null,
      "outputs": [
        {
          "output_type": "execute_result",
          "data": {
            "text/plain": [
              "array(['G-04', 'G-07', 'G-08', 'G-06', 'G-05', 'G-09', 'G-12', 'G-11',\n",
              "       'G-10', 'G-02'], dtype=object)"
            ]
          },
          "metadata": {
            "tags": []
          },
          "execution_count": 186
        }
      ]
    },
    {
      "cell_type": "code",
      "metadata": {
        "id": "8aipnDlELWue"
      },
      "source": [
        "GradeID = {'G-04': 4,'G-07': 7,'G-08':8,'G-06':6,'G-05':5,'G-09':9,'G-12':12,'G-11':11,'G-10':10,'G-02':2,}\n",
        "dataset.GradeID = [GradeID[item] for item in dataset.GradeID]"
      ],
      "execution_count": null,
      "outputs": []
    },
    {
      "cell_type": "code",
      "metadata": {
        "colab": {
          "base_uri": "https://localhost:8080/"
        },
        "id": "qb4MdOelL-J4",
        "outputId": "400f71df-8b74-470a-b828-a966db75dcfc"
      },
      "source": [
        "dataset['GradeID'].unique()"
      ],
      "execution_count": null,
      "outputs": [
        {
          "output_type": "execute_result",
          "data": {
            "text/plain": [
              "array([ 4,  7,  8,  6,  5,  9, 12, 11, 10,  2])"
            ]
          },
          "metadata": {
            "tags": []
          },
          "execution_count": 188
        }
      ]
    },
    {
      "cell_type": "code",
      "metadata": {
        "colab": {
          "base_uri": "https://localhost:8080/"
        },
        "id": "g_3DUF2TMAOE",
        "outputId": "c093c035-9825-49a1-8fa5-263cae38a293"
      },
      "source": [
        "dataset['SectionID'].unique()"
      ],
      "execution_count": null,
      "outputs": [
        {
          "output_type": "execute_result",
          "data": {
            "text/plain": [
              "array(['A', 'B', 'C'], dtype=object)"
            ]
          },
          "metadata": {
            "tags": []
          },
          "execution_count": 189
        }
      ]
    },
    {
      "cell_type": "code",
      "metadata": {
        "id": "iTcmatwYMQ0u"
      },
      "source": [
        "SectionID = {'A': 1,'B': 2,'C':3}\n",
        "dataset.SectionID = [SectionID[item] for item in dataset.SectionID]"
      ],
      "execution_count": null,
      "outputs": []
    },
    {
      "cell_type": "code",
      "metadata": {
        "colab": {
          "base_uri": "https://localhost:8080/"
        },
        "id": "lzk4oTZZMhFK",
        "outputId": "7f4e3c9c-ad03-4e1a-c6a8-95b1a936c8be"
      },
      "source": [
        "dataset['SectionID'].unique()"
      ],
      "execution_count": null,
      "outputs": [
        {
          "output_type": "execute_result",
          "data": {
            "text/plain": [
              "array([1, 2, 3])"
            ]
          },
          "metadata": {
            "tags": []
          },
          "execution_count": 191
        }
      ]
    },
    {
      "cell_type": "code",
      "metadata": {
        "colab": {
          "base_uri": "https://localhost:8080/"
        },
        "id": "N0cBIbMiMiPG",
        "outputId": "0faba813-ee04-4a50-e1bb-f3355ac3a409"
      },
      "source": [
        "dataset['Topic'].unique()"
      ],
      "execution_count": null,
      "outputs": [
        {
          "output_type": "execute_result",
          "data": {
            "text/plain": [
              "array(['IT', 'Math', 'Arabic', 'Science', 'English', 'Quran', 'Spanish',\n",
              "       'French', 'History', 'Biology', 'Chemistry', 'Geology'],\n",
              "      dtype=object)"
            ]
          },
          "metadata": {
            "tags": []
          },
          "execution_count": 192
        }
      ]
    },
    {
      "cell_type": "code",
      "metadata": {
        "id": "P0thpmMIORcf"
      },
      "source": [
        "Topic = {'IT': 1,'Math': 2,'Arabic':3,'Science':4,'English':5,'Quran':6,'Spanish':7,'French':8,'History':9,'Biology':10,'Chemistry':11,'Geology':12}\n",
        "dataset.Topic = [Topic[item] for item in dataset.Topic]"
      ],
      "execution_count": null,
      "outputs": []
    },
    {
      "cell_type": "code",
      "metadata": {
        "colab": {
          "base_uri": "https://localhost:8080/"
        },
        "id": "-tk6GWsfPNo6",
        "outputId": "03c2d21d-b380-474e-e2ca-841e3b7d518b"
      },
      "source": [
        "dataset['Topic'].unique()"
      ],
      "execution_count": null,
      "outputs": [
        {
          "output_type": "execute_result",
          "data": {
            "text/plain": [
              "array([ 1,  2,  3,  4,  5,  6,  7,  8,  9, 10, 11, 12])"
            ]
          },
          "metadata": {
            "tags": []
          },
          "execution_count": 194
        }
      ]
    },
    {
      "cell_type": "code",
      "metadata": {
        "colab": {
          "base_uri": "https://localhost:8080/"
        },
        "id": "3XHZ_k_rPP55",
        "outputId": "77d54841-583a-4f9d-c0f5-35cfc778d59f"
      },
      "source": [
        "dataset['Semester'].unique()"
      ],
      "execution_count": null,
      "outputs": [
        {
          "output_type": "execute_result",
          "data": {
            "text/plain": [
              "array(['F', 'S'], dtype=object)"
            ]
          },
          "metadata": {
            "tags": []
          },
          "execution_count": 195
        }
      ]
    },
    {
      "cell_type": "code",
      "metadata": {
        "colab": {
          "base_uri": "https://localhost:8080/"
        },
        "id": "BSB6-bynPiKV",
        "outputId": "ed0aa76b-e025-4d49-f9d9-e49993901921"
      },
      "source": [
        "dataset['Semester'].value_counts()"
      ],
      "execution_count": null,
      "outputs": [
        {
          "output_type": "execute_result",
          "data": {
            "text/plain": [
              "F    245\n",
              "S    235\n",
              "Name: Semester, dtype: int64"
            ]
          },
          "metadata": {
            "tags": []
          },
          "execution_count": 196
        }
      ]
    },
    {
      "cell_type": "code",
      "metadata": {
        "id": "Qvz4WUC3P3Ww"
      },
      "source": [
        "Semester = {'F': 1,'S': 2}\n",
        "dataset.Semester = [Semester[item] for item in dataset.Semester]"
      ],
      "execution_count": null,
      "outputs": []
    },
    {
      "cell_type": "code",
      "metadata": {
        "colab": {
          "base_uri": "https://localhost:8080/"
        },
        "id": "xq00H8lOQB30",
        "outputId": "dfcea261-f8f5-4581-854f-eb2bc9dc657c"
      },
      "source": [
        "dataset['Semester'].unique()"
      ],
      "execution_count": null,
      "outputs": [
        {
          "output_type": "execute_result",
          "data": {
            "text/plain": [
              "array([1, 2])"
            ]
          },
          "metadata": {
            "tags": []
          },
          "execution_count": 198
        }
      ]
    },
    {
      "cell_type": "code",
      "metadata": {
        "colab": {
          "base_uri": "https://localhost:8080/"
        },
        "id": "_iYtJp8_QEPO",
        "outputId": "47c875b2-7c49-499a-e0a2-18cdeb64e3da"
      },
      "source": [
        "dataset['Relation'].value_counts()"
      ],
      "execution_count": null,
      "outputs": [
        {
          "output_type": "execute_result",
          "data": {
            "text/plain": [
              "Father    283\n",
              "Mum       197\n",
              "Name: Relation, dtype: int64"
            ]
          },
          "metadata": {
            "tags": []
          },
          "execution_count": 199
        }
      ]
    },
    {
      "cell_type": "code",
      "metadata": {
        "id": "VrhjgfrpQJBz"
      },
      "source": [
        "Relation = {'Father': 0,'Mum': 1}\n",
        "dataset.Relation = [Relation[item] for item in dataset.Relation]"
      ],
      "execution_count": null,
      "outputs": []
    },
    {
      "cell_type": "code",
      "metadata": {
        "colab": {
          "base_uri": "https://localhost:8080/"
        },
        "id": "V1La_4e1QTMJ",
        "outputId": "9e2eb95e-d7b0-47d1-a017-faa1e856e1f3"
      },
      "source": [
        "dataset['Relation'].unique()"
      ],
      "execution_count": null,
      "outputs": [
        {
          "output_type": "execute_result",
          "data": {
            "text/plain": [
              "array([0, 1])"
            ]
          },
          "metadata": {
            "tags": []
          },
          "execution_count": 201
        }
      ]
    },
    {
      "cell_type": "code",
      "metadata": {
        "colab": {
          "base_uri": "https://localhost:8080/"
        },
        "id": "TLaUMG8AQaVX",
        "outputId": "7583cea0-7576-44c2-e814-21728008a1ba"
      },
      "source": [
        "dataset['ParentAnsweringSurvey'].unique()"
      ],
      "execution_count": null,
      "outputs": [
        {
          "output_type": "execute_result",
          "data": {
            "text/plain": [
              "array(['Yes', 'No'], dtype=object)"
            ]
          },
          "metadata": {
            "tags": []
          },
          "execution_count": 202
        }
      ]
    },
    {
      "cell_type": "code",
      "metadata": {
        "id": "ANUXFOsLQhZs"
      },
      "source": [
        "ParentAnsweringSurvey = {'Yes': 0,'No': 1}\n",
        "dataset.ParentAnsweringSurvey = [ParentAnsweringSurvey[item] for item in dataset.ParentAnsweringSurvey]"
      ],
      "execution_count": null,
      "outputs": []
    },
    {
      "cell_type": "code",
      "metadata": {
        "colab": {
          "base_uri": "https://localhost:8080/"
        },
        "id": "sl2PQggDQ04K",
        "outputId": "8fc6ca3a-ee7b-43e0-cbfb-53ba8da1f1f8"
      },
      "source": [
        "dataset['ParentAnsweringSurvey'].unique()"
      ],
      "execution_count": null,
      "outputs": [
        {
          "output_type": "execute_result",
          "data": {
            "text/plain": [
              "array([0, 1])"
            ]
          },
          "metadata": {
            "tags": []
          },
          "execution_count": 204
        }
      ]
    },
    {
      "cell_type": "code",
      "metadata": {
        "colab": {
          "base_uri": "https://localhost:8080/"
        },
        "id": "VY1y-k5hQ3iB",
        "outputId": "74ba8326-0b2f-480f-c019-cb42a06a61c8"
      },
      "source": [
        "dataset['ParentschoolSatisfaction'].unique() "
      ],
      "execution_count": null,
      "outputs": [
        {
          "output_type": "execute_result",
          "data": {
            "text/plain": [
              "array(['Good', 'Bad'], dtype=object)"
            ]
          },
          "metadata": {
            "tags": []
          },
          "execution_count": 205
        }
      ]
    },
    {
      "cell_type": "code",
      "metadata": {
        "id": "FuF-p8dBQ-Oo"
      },
      "source": [
        "ParentschoolSatisfaction = {'Good': 0,'Bad': 1}\n",
        "dataset.ParentschoolSatisfaction = [ParentschoolSatisfaction[item] for item in dataset.ParentschoolSatisfaction]"
      ],
      "execution_count": null,
      "outputs": []
    },
    {
      "cell_type": "code",
      "metadata": {
        "colab": {
          "base_uri": "https://localhost:8080/"
        },
        "id": "6YKHA8JvRE5m",
        "outputId": "75f0c85c-f902-47e4-979c-40b08e0797fb"
      },
      "source": [
        "dataset['ParentschoolSatisfaction'].unique()"
      ],
      "execution_count": null,
      "outputs": [
        {
          "output_type": "execute_result",
          "data": {
            "text/plain": [
              "array([0, 1])"
            ]
          },
          "metadata": {
            "tags": []
          },
          "execution_count": 207
        }
      ]
    },
    {
      "cell_type": "code",
      "metadata": {
        "colab": {
          "base_uri": "https://localhost:8080/"
        },
        "id": "9q1ujHCuRG40",
        "outputId": "aa9a0b7a-8b3a-4c45-a0e5-0b0e891c64f3"
      },
      "source": [
        "dataset['StudentAbsenceDays'].unique() "
      ],
      "execution_count": null,
      "outputs": [
        {
          "output_type": "execute_result",
          "data": {
            "text/plain": [
              "array(['Under-7', 'Above-7'], dtype=object)"
            ]
          },
          "metadata": {
            "tags": []
          },
          "execution_count": 208
        }
      ]
    },
    {
      "cell_type": "code",
      "metadata": {
        "id": "QDRDv5u3RNmV"
      },
      "source": [
        "StudentAbsenceDays = {'Under-7': 0,'Above-7': 1}\n",
        "dataset.StudentAbsenceDays = [StudentAbsenceDays[item] for item in dataset.StudentAbsenceDays]"
      ],
      "execution_count": null,
      "outputs": []
    },
    {
      "cell_type": "code",
      "metadata": {
        "colab": {
          "base_uri": "https://localhost:8080/"
        },
        "id": "m2_KqAPqRbb5",
        "outputId": "8e3f73e9-2278-44dd-8009-1ef19e4c350f"
      },
      "source": [
        "dataset['StudentAbsenceDays'].unique()"
      ],
      "execution_count": null,
      "outputs": [
        {
          "output_type": "execute_result",
          "data": {
            "text/plain": [
              "array([0, 1])"
            ]
          },
          "metadata": {
            "tags": []
          },
          "execution_count": 210
        }
      ]
    },
    {
      "cell_type": "markdown",
      "metadata": {
        "id": "Rar3tKqPp_1W"
      },
      "source": [
        "now checking the correation and heatmap"
      ]
    },
    {
      "cell_type": "code",
      "metadata": {
        "colab": {
          "base_uri": "https://localhost:8080/",
          "height": 517
        },
        "id": "dX8pdyvxRdLO",
        "outputId": "5fcbbf3d-52af-4b05-81d4-2df333801800"
      },
      "source": [
        "dataset.corr()"
      ],
      "execution_count": null,
      "outputs": [
        {
          "output_type": "execute_result",
          "data": {
            "text/html": [
              "<div>\n",
              "<style scoped>\n",
              "    .dataframe tbody tr th:only-of-type {\n",
              "        vertical-align: middle;\n",
              "    }\n",
              "\n",
              "    .dataframe tbody tr th {\n",
              "        vertical-align: top;\n",
              "    }\n",
              "\n",
              "    .dataframe thead th {\n",
              "        text-align: right;\n",
              "    }\n",
              "</style>\n",
              "<table border=\"1\" class=\"dataframe\">\n",
              "  <thead>\n",
              "    <tr style=\"text-align: right;\">\n",
              "      <th></th>\n",
              "      <th>gender</th>\n",
              "      <th>PlaceofBirth</th>\n",
              "      <th>StageID</th>\n",
              "      <th>GradeID</th>\n",
              "      <th>SectionID</th>\n",
              "      <th>Topic</th>\n",
              "      <th>Semester</th>\n",
              "      <th>Relation</th>\n",
              "      <th>raisedhands</th>\n",
              "      <th>VisITedResources</th>\n",
              "      <th>AnnouncementsView</th>\n",
              "      <th>Discussion</th>\n",
              "      <th>ParentAnsweringSurvey</th>\n",
              "      <th>ParentschoolSatisfaction</th>\n",
              "      <th>StudentAbsenceDays</th>\n",
              "    </tr>\n",
              "  </thead>\n",
              "  <tbody>\n",
              "    <tr>\n",
              "      <th>gender</th>\n",
              "      <td>1.000000</td>\n",
              "      <td>0.016105</td>\n",
              "      <td>-0.017793</td>\n",
              "      <td>-0.018304</td>\n",
              "      <td>-0.054907</td>\n",
              "      <td>0.071017</td>\n",
              "      <td>-0.049156</td>\n",
              "      <td>0.195142</td>\n",
              "      <td>0.149978</td>\n",
              "      <td>0.210932</td>\n",
              "      <td>0.052139</td>\n",
              "      <td>0.124703</td>\n",
              "      <td>-0.022359</td>\n",
              "      <td>-0.093478</td>\n",
              "      <td>-0.209011</td>\n",
              "    </tr>\n",
              "    <tr>\n",
              "      <th>PlaceofBirth</th>\n",
              "      <td>0.016105</td>\n",
              "      <td>1.000000</td>\n",
              "      <td>-0.085201</td>\n",
              "      <td>-0.091757</td>\n",
              "      <td>-0.151550</td>\n",
              "      <td>0.491876</td>\n",
              "      <td>0.112804</td>\n",
              "      <td>0.242755</td>\n",
              "      <td>0.227104</td>\n",
              "      <td>0.291238</td>\n",
              "      <td>0.286739</td>\n",
              "      <td>0.003740</td>\n",
              "      <td>-0.074358</td>\n",
              "      <td>-0.244247</td>\n",
              "      <td>-0.051104</td>\n",
              "    </tr>\n",
              "    <tr>\n",
              "      <th>StageID</th>\n",
              "      <td>-0.017793</td>\n",
              "      <td>-0.085201</td>\n",
              "      <td>1.000000</td>\n",
              "      <td>0.951452</td>\n",
              "      <td>-0.296416</td>\n",
              "      <td>0.148853</td>\n",
              "      <td>0.029512</td>\n",
              "      <td>-0.034205</td>\n",
              "      <td>0.172751</td>\n",
              "      <td>0.068621</td>\n",
              "      <td>0.163666</td>\n",
              "      <td>0.161406</td>\n",
              "      <td>-0.114025</td>\n",
              "      <td>0.014272</td>\n",
              "      <td>-0.112536</td>\n",
              "    </tr>\n",
              "    <tr>\n",
              "      <th>GradeID</th>\n",
              "      <td>-0.018304</td>\n",
              "      <td>-0.091757</td>\n",
              "      <td>0.951452</td>\n",
              "      <td>1.000000</td>\n",
              "      <td>-0.329056</td>\n",
              "      <td>0.219534</td>\n",
              "      <td>0.076370</td>\n",
              "      <td>-0.034626</td>\n",
              "      <td>0.194382</td>\n",
              "      <td>0.078741</td>\n",
              "      <td>0.198552</td>\n",
              "      <td>0.180966</td>\n",
              "      <td>-0.116915</td>\n",
              "      <td>0.018349</td>\n",
              "      <td>-0.084896</td>\n",
              "    </tr>\n",
              "    <tr>\n",
              "      <th>SectionID</th>\n",
              "      <td>-0.054907</td>\n",
              "      <td>-0.151550</td>\n",
              "      <td>-0.296416</td>\n",
              "      <td>-0.329056</td>\n",
              "      <td>1.000000</td>\n",
              "      <td>-0.224213</td>\n",
              "      <td>0.046763</td>\n",
              "      <td>0.005783</td>\n",
              "      <td>-0.143862</td>\n",
              "      <td>-0.080909</td>\n",
              "      <td>-0.144955</td>\n",
              "      <td>-0.102538</td>\n",
              "      <td>0.018449</td>\n",
              "      <td>0.070405</td>\n",
              "      <td>-0.037062</td>\n",
              "    </tr>\n",
              "    <tr>\n",
              "      <th>Topic</th>\n",
              "      <td>0.071017</td>\n",
              "      <td>0.491876</td>\n",
              "      <td>0.148853</td>\n",
              "      <td>0.219534</td>\n",
              "      <td>-0.224213</td>\n",
              "      <td>1.000000</td>\n",
              "      <td>0.279511</td>\n",
              "      <td>0.241447</td>\n",
              "      <td>0.304377</td>\n",
              "      <td>0.378792</td>\n",
              "      <td>0.334392</td>\n",
              "      <td>-0.023449</td>\n",
              "      <td>-0.054063</td>\n",
              "      <td>-0.165179</td>\n",
              "      <td>-0.098395</td>\n",
              "    </tr>\n",
              "    <tr>\n",
              "      <th>Semester</th>\n",
              "      <td>-0.049156</td>\n",
              "      <td>0.112804</td>\n",
              "      <td>0.029512</td>\n",
              "      <td>0.076370</td>\n",
              "      <td>0.046763</td>\n",
              "      <td>0.279511</td>\n",
              "      <td>1.000000</td>\n",
              "      <td>0.148705</td>\n",
              "      <td>0.178358</td>\n",
              "      <td>0.173219</td>\n",
              "      <td>0.287066</td>\n",
              "      <td>0.019083</td>\n",
              "      <td>-0.023628</td>\n",
              "      <td>0.025258</td>\n",
              "      <td>-0.072462</td>\n",
              "    </tr>\n",
              "    <tr>\n",
              "      <th>Relation</th>\n",
              "      <td>0.195142</td>\n",
              "      <td>0.242755</td>\n",
              "      <td>-0.034205</td>\n",
              "      <td>-0.034626</td>\n",
              "      <td>0.005783</td>\n",
              "      <td>0.241447</td>\n",
              "      <td>0.148705</td>\n",
              "      <td>1.000000</td>\n",
              "      <td>0.364237</td>\n",
              "      <td>0.360240</td>\n",
              "      <td>0.339505</td>\n",
              "      <td>0.026720</td>\n",
              "      <td>-0.163811</td>\n",
              "      <td>-0.287698</td>\n",
              "      <td>-0.219687</td>\n",
              "    </tr>\n",
              "    <tr>\n",
              "      <th>raisedhands</th>\n",
              "      <td>0.149978</td>\n",
              "      <td>0.227104</td>\n",
              "      <td>0.172751</td>\n",
              "      <td>0.194382</td>\n",
              "      <td>-0.143862</td>\n",
              "      <td>0.304377</td>\n",
              "      <td>0.178358</td>\n",
              "      <td>0.364237</td>\n",
              "      <td>1.000000</td>\n",
              "      <td>0.691572</td>\n",
              "      <td>0.643918</td>\n",
              "      <td>0.339386</td>\n",
              "      <td>-0.316570</td>\n",
              "      <td>-0.297015</td>\n",
              "      <td>-0.463882</td>\n",
              "    </tr>\n",
              "    <tr>\n",
              "      <th>VisITedResources</th>\n",
              "      <td>0.210932</td>\n",
              "      <td>0.291238</td>\n",
              "      <td>0.068621</td>\n",
              "      <td>0.078741</td>\n",
              "      <td>-0.080909</td>\n",
              "      <td>0.378792</td>\n",
              "      <td>0.173219</td>\n",
              "      <td>0.360240</td>\n",
              "      <td>0.691572</td>\n",
              "      <td>1.000000</td>\n",
              "      <td>0.594500</td>\n",
              "      <td>0.243292</td>\n",
              "      <td>-0.382472</td>\n",
              "      <td>-0.363835</td>\n",
              "      <td>-0.499030</td>\n",
              "    </tr>\n",
              "    <tr>\n",
              "      <th>AnnouncementsView</th>\n",
              "      <td>0.052139</td>\n",
              "      <td>0.286739</td>\n",
              "      <td>0.163666</td>\n",
              "      <td>0.198552</td>\n",
              "      <td>-0.144955</td>\n",
              "      <td>0.334392</td>\n",
              "      <td>0.287066</td>\n",
              "      <td>0.339505</td>\n",
              "      <td>0.643918</td>\n",
              "      <td>0.594500</td>\n",
              "      <td>1.000000</td>\n",
              "      <td>0.417290</td>\n",
              "      <td>-0.396357</td>\n",
              "      <td>-0.298744</td>\n",
              "      <td>-0.312134</td>\n",
              "    </tr>\n",
              "    <tr>\n",
              "      <th>Discussion</th>\n",
              "      <td>0.124703</td>\n",
              "      <td>0.003740</td>\n",
              "      <td>0.161406</td>\n",
              "      <td>0.180966</td>\n",
              "      <td>-0.102538</td>\n",
              "      <td>-0.023449</td>\n",
              "      <td>0.019083</td>\n",
              "      <td>0.026720</td>\n",
              "      <td>0.339386</td>\n",
              "      <td>0.243292</td>\n",
              "      <td>0.417290</td>\n",
              "      <td>1.000000</td>\n",
              "      <td>-0.232197</td>\n",
              "      <td>-0.061104</td>\n",
              "      <td>-0.218778</td>\n",
              "    </tr>\n",
              "    <tr>\n",
              "      <th>ParentAnsweringSurvey</th>\n",
              "      <td>-0.022359</td>\n",
              "      <td>-0.074358</td>\n",
              "      <td>-0.114025</td>\n",
              "      <td>-0.116915</td>\n",
              "      <td>0.018449</td>\n",
              "      <td>-0.054063</td>\n",
              "      <td>-0.023628</td>\n",
              "      <td>-0.163811</td>\n",
              "      <td>-0.316570</td>\n",
              "      <td>-0.382472</td>\n",
              "      <td>-0.396357</td>\n",
              "      <td>-0.232197</td>\n",
              "      <td>1.000000</td>\n",
              "      <td>0.539875</td>\n",
              "      <td>0.261152</td>\n",
              "    </tr>\n",
              "    <tr>\n",
              "      <th>ParentschoolSatisfaction</th>\n",
              "      <td>-0.093478</td>\n",
              "      <td>-0.244247</td>\n",
              "      <td>0.014272</td>\n",
              "      <td>0.018349</td>\n",
              "      <td>0.070405</td>\n",
              "      <td>-0.165179</td>\n",
              "      <td>0.025258</td>\n",
              "      <td>-0.287698</td>\n",
              "      <td>-0.297015</td>\n",
              "      <td>-0.363835</td>\n",
              "      <td>-0.298744</td>\n",
              "      <td>-0.061104</td>\n",
              "      <td>0.539875</td>\n",
              "      <td>1.000000</td>\n",
              "      <td>0.228385</td>\n",
              "    </tr>\n",
              "    <tr>\n",
              "      <th>StudentAbsenceDays</th>\n",
              "      <td>-0.209011</td>\n",
              "      <td>-0.051104</td>\n",
              "      <td>-0.112536</td>\n",
              "      <td>-0.084896</td>\n",
              "      <td>-0.037062</td>\n",
              "      <td>-0.098395</td>\n",
              "      <td>-0.072462</td>\n",
              "      <td>-0.219687</td>\n",
              "      <td>-0.463882</td>\n",
              "      <td>-0.499030</td>\n",
              "      <td>-0.312134</td>\n",
              "      <td>-0.218778</td>\n",
              "      <td>0.261152</td>\n",
              "      <td>0.228385</td>\n",
              "      <td>1.000000</td>\n",
              "    </tr>\n",
              "  </tbody>\n",
              "</table>\n",
              "</div>"
            ],
            "text/plain": [
              "                            gender  ...  StudentAbsenceDays\n",
              "gender                    1.000000  ...           -0.209011\n",
              "PlaceofBirth              0.016105  ...           -0.051104\n",
              "StageID                  -0.017793  ...           -0.112536\n",
              "GradeID                  -0.018304  ...           -0.084896\n",
              "SectionID                -0.054907  ...           -0.037062\n",
              "Topic                     0.071017  ...           -0.098395\n",
              "Semester                 -0.049156  ...           -0.072462\n",
              "Relation                  0.195142  ...           -0.219687\n",
              "raisedhands               0.149978  ...           -0.463882\n",
              "VisITedResources          0.210932  ...           -0.499030\n",
              "AnnouncementsView         0.052139  ...           -0.312134\n",
              "Discussion                0.124703  ...           -0.218778\n",
              "ParentAnsweringSurvey    -0.022359  ...            0.261152\n",
              "ParentschoolSatisfaction -0.093478  ...            0.228385\n",
              "StudentAbsenceDays       -0.209011  ...            1.000000\n",
              "\n",
              "[15 rows x 15 columns]"
            ]
          },
          "metadata": {
            "tags": []
          },
          "execution_count": 211
        }
      ]
    },
    {
      "cell_type": "code",
      "metadata": {
        "colab": {
          "base_uri": "https://localhost:8080/",
          "height": 725
        },
        "id": "socB8SzURhr3",
        "outputId": "c72a9af2-2dfd-4be5-ad2d-656754b66ee4"
      },
      "source": [
        "plt.figure(figsize=(10,10))\n",
        "sns.heatmap(dataset.corr())"
      ],
      "execution_count": null,
      "outputs": [
        {
          "output_type": "execute_result",
          "data": {
            "text/plain": [
              "<matplotlib.axes._subplots.AxesSubplot at 0x7fc6eac8dcd0>"
            ]
          },
          "metadata": {
            "tags": []
          },
          "execution_count": 212
        },
        {
          "output_type": "display_data",
          "data": {
            "image/png": "[encoded data removed]",
            "text/plain": [
              "<Figure size 720x720 with 2 Axes>"
            ]
          },
          "metadata": {
            "tags": [],
            "needs_background": "light"
          }
        }
      ]
    },
    {
      "cell_type": "markdown",
      "metadata": {
        "id": "FseYDHCjm6-P"
      },
      "source": [
        "**Analysis of dataset**\n",
        "\n",
        "Girls performed better than boys and they have better attendance than boys\n",
        "Most of the students are from middle school\n",
        "most of the students have enrolled for IT"
      ]
    },
    {
      "cell_type": "markdown",
      "metadata": {
        "id": "yCNz7mAkRs9C"
      },
      "source": [
        "LOGISTIC REGRESSION\n"
      ]
    },
    {
      "cell_type": "markdown",
      "metadata": {
        "id": "eXP0MN0LXN4x"
      },
      "source": [
        "starting with 50:50  train and test data"
      ]
    },
    {
      "cell_type": "code",
      "metadata": {
        "id": "yWwMcAz3R_mI"
      },
      "source": [
        "X=dataset.drop('Class',axis=1)\n",
        "y=dataset[\"Class\"]\n",
        "X_train,X_test,y_train,y_test=train_test_split(X,y,test_size=0.50,random_state=0)"
      ],
      "execution_count": null,
      "outputs": []
    },
    {
      "cell_type": "code",
      "metadata": {
        "colab": {
          "base_uri": "https://localhost:8080/"
        },
        "id": "337if8oBRpgb",
        "outputId": "3330714a-2204-443f-906c-231a0630b221"
      },
      "source": [
        "dataset.shape"
      ],
      "execution_count": null,
      "outputs": [
        {
          "output_type": "execute_result",
          "data": {
            "text/plain": [
              "(480, 16)"
            ]
          },
          "metadata": {
            "tags": []
          },
          "execution_count": 281
        }
      ]
    },
    {
      "cell_type": "code",
      "metadata": {
        "colab": {
          "base_uri": "https://localhost:8080/"
        },
        "id": "NRBG50NPU3NT",
        "outputId": "a4895aaf-d818-43e5-ef1f-0c7d13ba305b"
      },
      "source": [
        "X_train.shape,X_test.shape"
      ],
      "execution_count": null,
      "outputs": [
        {
          "output_type": "execute_result",
          "data": {
            "text/plain": [
              "((240, 15), (240, 15))"
            ]
          },
          "metadata": {
            "tags": []
          },
          "execution_count": 282
        }
      ]
    },
    {
      "cell_type": "code",
      "metadata": {
        "colab": {
          "base_uri": "https://localhost:8080/"
        },
        "id": "btaB11odU33t",
        "outputId": "6bf98a91-64e0-4ff1-868e-08bc35acbae2"
      },
      "source": [
        "lr=LogisticRegression()\n",
        "lr.fit(X_train,y_train)"
      ],
      "execution_count": null,
      "outputs": [
        {
          "output_type": "stream",
          "text": [
            "/usr/local/lib/python3.7/dist-packages/sklearn/linear_model/_logistic.py:940: ConvergenceWarning: lbfgs failed to converge (status=1):\n",
            "STOP: TOTAL NO. of ITERATIONS REACHED LIMIT.\n",
            "\n",
            "Increase the number of iterations (max_iter) or scale the data as shown in:\n",
            "    https://scikit-learn.org/stable/modules/preprocessing.html\n",
            "Please also refer to the documentation for alternative solver options:\n",
            "    https://scikit-learn.org/stable/modules/linear_model.html#logistic-regression\n",
            "  extra_warning_msg=_LOGISTIC_SOLVER_CONVERGENCE_MSG)\n"
          ],
          "name": "stderr"
        }
      ]
    },
    {
      "cell_type": "code",
      "metadata": {
        "colab": {
          "base_uri": "https://localhost:8080/"
        },
        "id": "Cnw4pJNqVKNh",
        "outputId": "454a8c25-3296-44e4-ad6f-40c8ea9d0e27"
      },
      "source": [
        "pred = lr.predict(X_train)\n",
        "print(\"Train Result:\\n================================================\")\n",
        "print(f\"Accuracy Score: {accuracy_score(y_train, pred) * 100:.2f}%\")\n",
        "print(\"_______________________________________________\")\n",
        "print(f\"CLASSIFICATION REPORT:\\n{classification_report(y_train, pred)}\")\n",
        "print(\"_______________________________________________\")\n",
        "print(f\"Confusion Matrix: \\n {confusion_matrix(y_train, pred)}\\n\")\n"
      ],
      "execution_count": null,
      "outputs": [
        {
          "output_type": "stream",
          "text": [
            "Train Result:\n",
            "================================================\n",
            "Accuracy Score: 71.73%\n",
            "_______________________________________________\n",
            "CLASSIFICATION REPORT:\n",
            "              precision    recall  f1-score   support\n",
            "\n",
            "           H       0.71      0.71      0.71       103\n",
            "           L       0.77      0.85      0.81        93\n",
            "           M       0.68      0.64      0.66       140\n",
            "\n",
            "    accuracy                           0.72       336\n",
            "   macro avg       0.72      0.73      0.72       336\n",
            "weighted avg       0.71      0.72      0.72       336\n",
            "\n",
            "_______________________________________________\n",
            "Confusion Matrix: \n",
            " [[73  2 28]\n",
            " [ 1 79 13]\n",
            " [29 22 89]]\n",
            "\n"
          ],
          "name": "stdout"
        }
      ]
    },
    {
      "cell_type": "markdown",
      "metadata": {
        "id": "MwTEVnA0XVg-"
      },
      "source": [
        "now 80:20 train and test data split"
      ]
    },
    {
      "cell_type": "code",
      "metadata": {
        "id": "C2dMD0RsXGw9"
      },
      "source": [
        "X=dataset.drop('Class',axis=1)\n",
        "y=dataset[\"Class\"]\n",
        "X_train,X_test,y_train,y_test=train_test_split(X,y,test_size=0.20,random_state=0)"
      ],
      "execution_count": null,
      "outputs": []
    },
    {
      "cell_type": "code",
      "metadata": {
        "colab": {
          "base_uri": "https://localhost:8080/"
        },
        "id": "y0jqRBNaXxTv",
        "outputId": "1c4ea4b0-02e6-4a65-9e44-51caf4f0623d"
      },
      "source": [
        "dataset.shape"
      ],
      "execution_count": null,
      "outputs": [
        {
          "output_type": "execute_result",
          "data": {
            "text/plain": [
              "(480, 16)"
            ]
          },
          "metadata": {
            "tags": []
          },
          "execution_count": 329
        }
      ]
    },
    {
      "cell_type": "code",
      "metadata": {
        "colab": {
          "base_uri": "https://localhost:8080/"
        },
        "id": "P-1V1q-3XzrK",
        "outputId": "78203d8d-ebc1-4545-c9a8-cab53a651b83"
      },
      "source": [
        "X_train.shape,X_test.shape"
      ],
      "execution_count": null,
      "outputs": [
        {
          "output_type": "execute_result",
          "data": {
            "text/plain": [
              "((384, 15), (96, 15))"
            ]
          },
          "metadata": {
            "tags": []
          },
          "execution_count": 330
        }
      ]
    },
    {
      "cell_type": "code",
      "metadata": {
        "colab": {
          "base_uri": "https://localhost:8080/"
        },
        "id": "w3-5aWuJX1u1",
        "outputId": "eb9c6f3d-738d-478e-9519-6c189860e70a"
      },
      "source": [
        "lr=LogisticRegression()\n",
        "lr.fit(X_train,y_train)"
      ],
      "execution_count": null,
      "outputs": [
        {
          "output_type": "stream",
          "text": [
            "/usr/local/lib/python3.7/dist-packages/sklearn/linear_model/_logistic.py:940: ConvergenceWarning: lbfgs failed to converge (status=1):\n",
            "STOP: TOTAL NO. of ITERATIONS REACHED LIMIT.\n",
            "\n",
            "Increase the number of iterations (max_iter) or scale the data as shown in:\n",
            "    https://scikit-learn.org/stable/modules/preprocessing.html\n",
            "Please also refer to the documentation for alternative solver options:\n",
            "    https://scikit-learn.org/stable/modules/linear_model.html#logistic-regression\n",
            "  extra_warning_msg=_LOGISTIC_SOLVER_CONVERGENCE_MSG)\n"
          ],
          "name": "stderr"
        },
        {
          "output_type": "execute_result",
          "data": {
            "text/plain": [
              "LogisticRegression(C=1.0, class_weight=None, dual=False, fit_intercept=True,\n",
              "                   intercept_scaling=1, l1_ratio=None, max_iter=100,\n",
              "                   multi_class='auto', n_jobs=None, penalty='l2',\n",
              "                   random_state=None, solver='lbfgs', tol=0.0001, verbose=0,\n",
              "                   warm_start=False)"
            ]
          },
          "metadata": {
            "tags": []
          },
          "execution_count": 331
        }
      ]
    },
    {
      "cell_type": "code",
      "metadata": {
        "colab": {
          "base_uri": "https://localhost:8080/"
        },
        "id": "YPsew8pdrSPe",
        "outputId": "b13cfbb9-0b9d-426a-81c2-f0a151a506fa"
      },
      "source": [
        "pred = lr.predict(X_train)\n",
        "print(\"Train Result:\\n================================================\")\n",
        "print(f\"Accuracy Score: {accuracy_score(y_train, pred) * 100:.2f}%\")\n",
        "print(\"_______________________________________________\")\n",
        "print(f\"CLASSIFICATION REPORT:\\n{classification_report(y_train, pred)}\")\n",
        "print(\"_______________________________________________\")\n",
        "print(f\"Confusion Matrix: \\n {confusion_matrix(y_train, pred)}\\n\")\n"
      ],
      "execution_count": null,
      "outputs": [
        {
          "output_type": "stream",
          "text": [
            "Train Result:\n",
            "================================================\n",
            "Accuracy Score: 74.22%\n",
            "_______________________________________________\n",
            "CLASSIFICATION REPORT:\n",
            "              precision    recall  f1-score   support\n",
            "\n",
            "           H       0.73      0.73      0.73       114\n",
            "           L       0.78      0.85      0.81       104\n",
            "           M       0.72      0.69      0.70       166\n",
            "\n",
            "    accuracy                           0.74       384\n",
            "   macro avg       0.74      0.75      0.75       384\n",
            "weighted avg       0.74      0.74      0.74       384\n",
            "\n",
            "_______________________________________________\n",
            "Confusion Matrix: \n",
            " [[ 83   2  29]\n",
            " [  1  88  15]\n",
            " [ 29  23 114]]\n",
            "\n"
          ],
          "name": "stdout"
        }
      ]
    },
    {
      "cell_type": "markdown",
      "metadata": {
        "id": "1dA1b9ETYJ6G"
      },
      "source": [
        "now 75:25 train and test data split"
      ]
    },
    {
      "cell_type": "code",
      "metadata": {
        "id": "lZQDdgAjYJ6H"
      },
      "source": [
        "X=dataset.drop('Class',axis=1)\n",
        "y=dataset[\"Class\"]\n",
        "X_train,X_test,y_train,y_test=train_test_split(X,y,test_size=0.25,random_state=0)"
      ],
      "execution_count": null,
      "outputs": []
    },
    {
      "cell_type": "code",
      "metadata": {
        "colab": {
          "base_uri": "https://localhost:8080/"
        },
        "id": "mTtZdtCYYJ6I",
        "outputId": "bf7388d9-7625-4130-b9d7-f4777c2f1a0a"
      },
      "source": [
        "dataset.shape"
      ],
      "execution_count": null,
      "outputs": [
        {
          "output_type": "execute_result",
          "data": {
            "text/plain": [
              "(480, 16)"
            ]
          },
          "metadata": {
            "tags": []
          },
          "execution_count": 334
        }
      ]
    },
    {
      "cell_type": "code",
      "metadata": {
        "colab": {
          "base_uri": "https://localhost:8080/"
        },
        "id": "QD3XmS4YYJ6K",
        "outputId": "82a6cc32-46af-4c58-8523-f90ecd99ec91"
      },
      "source": [
        "X_train.shape,X_test.shape"
      ],
      "execution_count": null,
      "outputs": [
        {
          "output_type": "execute_result",
          "data": {
            "text/plain": [
              "((360, 15), (120, 15))"
            ]
          },
          "metadata": {
            "tags": []
          },
          "execution_count": 335
        }
      ]
    },
    {
      "cell_type": "code",
      "metadata": {
        "colab": {
          "base_uri": "https://localhost:8080/"
        },
        "id": "7ZdADoQbYJ6K",
        "outputId": "4081b526-bd85-4e74-8084-55490deb2fb9"
      },
      "source": [
        "lr=LogisticRegression()\n",
        "lr.fit(X_train,y_train)"
      ],
      "execution_count": null,
      "outputs": [
        {
          "output_type": "stream",
          "text": [
            "/usr/local/lib/python3.7/dist-packages/sklearn/linear_model/_logistic.py:940: ConvergenceWarning: lbfgs failed to converge (status=1):\n",
            "STOP: TOTAL NO. of ITERATIONS REACHED LIMIT.\n",
            "\n",
            "Increase the number of iterations (max_iter) or scale the data as shown in:\n",
            "    https://scikit-learn.org/stable/modules/preprocessing.html\n",
            "Please also refer to the documentation for alternative solver options:\n",
            "    https://scikit-learn.org/stable/modules/linear_model.html#logistic-regression\n",
            "  extra_warning_msg=_LOGISTIC_SOLVER_CONVERGENCE_MSG)\n"
          ],
          "name": "stderr"
        },
        {
          "output_type": "execute_result",
          "data": {
            "text/plain": [
              "LogisticRegression(C=1.0, class_weight=None, dual=False, fit_intercept=True,\n",
              "                   intercept_scaling=1, l1_ratio=None, max_iter=100,\n",
              "                   multi_class='auto', n_jobs=None, penalty='l2',\n",
              "                   random_state=None, solver='lbfgs', tol=0.0001, verbose=0,\n",
              "                   warm_start=False)"
            ]
          },
          "metadata": {
            "tags": []
          },
          "execution_count": 336
        }
      ]
    },
    {
      "cell_type": "code",
      "metadata": {
        "colab": {
          "base_uri": "https://localhost:8080/"
        },
        "id": "XQcPbyOXYJ6L",
        "outputId": "751b6602-9a0f-4c81-b81d-844a15c73dd4"
      },
      "source": [
        "pred = lr.predict(X_train)\n",
        "print(\"Train Result:\\n================================================\")\n",
        "print(f\"Accuracy Score: {accuracy_score(y_train, pred) * 100:.2f}%\")\n",
        "print(\"_______________________________________________\")\n",
        "print(f\"CLASSIFICATION REPORT:\\n{classification_report(y_train, pred)}\")\n",
        "print(\"_______________________________________________\")\n",
        "print(f\"Confusion Matrix: \\n {confusion_matrix(y_train, pred)}\\n\")\n"
      ],
      "execution_count": null,
      "outputs": [
        {
          "output_type": "stream",
          "text": [
            "Train Result:\n",
            "================================================\n",
            "Accuracy Score: 73.33%\n",
            "_______________________________________________\n",
            "CLASSIFICATION REPORT:\n",
            "              precision    recall  f1-score   support\n",
            "\n",
            "           H       0.72      0.70      0.71       109\n",
            "           L       0.80      0.81      0.80        94\n",
            "           M       0.70      0.71      0.71       157\n",
            "\n",
            "    accuracy                           0.73       360\n",
            "   macro avg       0.74      0.74      0.74       360\n",
            "weighted avg       0.73      0.73      0.73       360\n",
            "\n",
            "_______________________________________________\n",
            "Confusion Matrix: \n",
            " [[ 76   2  31]\n",
            " [  1  76  17]\n",
            " [ 28  17 112]]\n",
            "\n"
          ],
          "name": "stdout"
        }
      ]
    },
    {
      "cell_type": "markdown",
      "metadata": {
        "id": "M-kozno9Ya-v"
      },
      "source": [
        "**now** 70:30 train and test data split"
      ]
    },
    {
      "cell_type": "code",
      "metadata": {
        "id": "kVmPXbapYa-x"
      },
      "source": [
        "X=dataset.drop('Class',axis=1)\n",
        "y=dataset[\"Class\"]\n",
        "X_train,X_test,y_train,y_test=train_test_split(X,y,test_size=0.30,random_state=0)"
      ],
      "execution_count": null,
      "outputs": []
    },
    {
      "cell_type": "code",
      "metadata": {
        "colab": {
          "base_uri": "https://localhost:8080/"
        },
        "id": "Wfa8hU1YYa-0",
        "outputId": "96170d9a-5a17-446f-d3f2-d5dee8bae54a"
      },
      "source": [
        "dataset.shape"
      ],
      "execution_count": null,
      "outputs": [
        {
          "output_type": "execute_result",
          "data": {
            "text/plain": [
              "(480, 16)"
            ]
          },
          "metadata": {
            "tags": []
          },
          "execution_count": 339
        }
      ]
    },
    {
      "cell_type": "code",
      "metadata": {
        "colab": {
          "base_uri": "https://localhost:8080/"
        },
        "id": "qfWfR6kzYa-2",
        "outputId": "ef420f82-00c8-4a87-dab7-3f91031c5cd5"
      },
      "source": [
        "X_train.shape,X_test.shape"
      ],
      "execution_count": null,
      "outputs": [
        {
          "output_type": "execute_result",
          "data": {
            "text/plain": [
              "((336, 15), (144, 15))"
            ]
          },
          "metadata": {
            "tags": []
          },
          "execution_count": 340
        }
      ]
    },
    {
      "cell_type": "code",
      "metadata": {
        "colab": {
          "base_uri": "https://localhost:8080/"
        },
        "id": "glkyOjW6Ya-3",
        "outputId": "88f6ae7c-7de2-49bd-a121-8a4e4a889fd9"
      },
      "source": [
        "lr=LogisticRegression()\n",
        "lr.fit(X_train,y_train)"
      ],
      "execution_count": null,
      "outputs": [
        {
          "output_type": "stream",
          "text": [
            "/usr/local/lib/python3.7/dist-packages/sklearn/linear_model/_logistic.py:940: ConvergenceWarning: lbfgs failed to converge (status=1):\n",
            "STOP: TOTAL NO. of ITERATIONS REACHED LIMIT.\n",
            "\n",
            "Increase the number of iterations (max_iter) or scale the data as shown in:\n",
            "    https://scikit-learn.org/stable/modules/preprocessing.html\n",
            "Please also refer to the documentation for alternative solver options:\n",
            "    https://scikit-learn.org/stable/modules/linear_model.html#logistic-regression\n",
            "  extra_warning_msg=_LOGISTIC_SOLVER_CONVERGENCE_MSG)\n"
          ],
          "name": "stderr"
        },
        {
          "output_type": "execute_result",
          "data": {
            "text/plain": [
              "LogisticRegression(C=1.0, class_weight=None, dual=False, fit_intercept=True,\n",
              "                   intercept_scaling=1, l1_ratio=None, max_iter=100,\n",
              "                   multi_class='auto', n_jobs=None, penalty='l2',\n",
              "                   random_state=None, solver='lbfgs', tol=0.0001, verbose=0,\n",
              "                   warm_start=False)"
            ]
          },
          "metadata": {
            "tags": []
          },
          "execution_count": 341
        }
      ]
    },
    {
      "cell_type": "code",
      "metadata": {
        "colab": {
          "base_uri": "https://localhost:8080/"
        },
        "id": "BWRt7hfnYa-4",
        "outputId": "fd4b39f2-cac6-4428-f294-f92b878100af"
      },
      "source": [
        "pred = lr.predict(X_train)\n",
        "print(\"Train Result:\\n================================================\")\n",
        "print(f\"Accuracy Score: {accuracy_score(y_train, pred) * 100:.2f}%\")\n",
        "print(\"_______________________________________________\")\n",
        "print(f\"CLASSIFICATION REPORT:\\n{classification_report(y_train, pred)}\")\n",
        "print(\"_______________________________________________\")\n",
        "print(f\"Confusion Matrix: \\n {confusion_matrix(y_train, pred)}\\n\")\n"
      ],
      "execution_count": null,
      "outputs": [
        {
          "output_type": "stream",
          "text": [
            "Train Result:\n",
            "================================================\n",
            "Accuracy Score: 74.11%\n",
            "_______________________________________________\n",
            "CLASSIFICATION REPORT:\n",
            "              precision    recall  f1-score   support\n",
            "\n",
            "           H       0.72      0.75      0.73       103\n",
            "           L       0.80      0.86      0.83        93\n",
            "           M       0.71      0.66      0.68       140\n",
            "\n",
            "    accuracy                           0.74       336\n",
            "   macro avg       0.74      0.75      0.75       336\n",
            "weighted avg       0.74      0.74      0.74       336\n",
            "\n",
            "_______________________________________________\n",
            "Confusion Matrix: \n",
            " [[77  1 25]\n",
            " [ 1 80 12]\n",
            " [29 19 92]]\n",
            "\n"
          ],
          "name": "stdout"
        }
      ]
    },
    {
      "cell_type": "markdown",
      "metadata": {
        "id": "6-JyL93Irpux"
      },
      "source": [
        "**Accuracy of results of logistic regression with various test and train data proportion **\n",
        "\n",
        "\n",
        "1.   50:50 -71.73%\n",
        "2.   80:20 -74.22%\n",
        "3.   75:25 -73.33%\n",
        "4.   70:30 -74.11%\n",
        "\n",
        "Among these highest accuracy is obtained in 80:20 proportion with 74.22%\n"
      ]
    },
    {
      "cell_type": "markdown",
      "metadata": {
        "id": "3-mXfsnIZf76"
      },
      "source": [
        "**DECISION TREE**"
      ]
    },
    {
      "cell_type": "markdown",
      "metadata": {
        "id": "xLwYkY3AqK0z"
      },
      "source": [
        "starting with 50:50  train and test data"
      ]
    },
    {
      "cell_type": "code",
      "metadata": {
        "id": "I_ITqIoJZ0NG"
      },
      "source": [
        "X=dataset.drop('Class',axis=1)\n",
        "y=dataset[\"Class\"]"
      ],
      "execution_count": null,
      "outputs": []
    },
    {
      "cell_type": "code",
      "metadata": {
        "id": "Ruf2rJEeam5u"
      },
      "source": [
        "X_train,X_test,y_train,y_test=train_test_split(X,y,test_size=0.50,random_state=0)"
      ],
      "execution_count": null,
      "outputs": []
    },
    {
      "cell_type": "code",
      "metadata": {
        "id": "nfQnVr5IYDiW",
        "colab": {
          "base_uri": "https://localhost:8080/"
        },
        "outputId": "65d02f37-27e6-47a9-dac4-28aa259a2c99"
      },
      "source": [
        "DecisionTreeClassifier(criterion=\"entropy\").fit(X_train,y_train)\n"
      ],
      "execution_count": null,
      "outputs": [
        {
          "output_type": "execute_result",
          "data": {
            "text/plain": [
              "DecisionTreeClassifier(ccp_alpha=0.0, class_weight=None, criterion='entropy',\n",
              "                       max_depth=None, max_features=None, max_leaf_nodes=None,\n",
              "                       min_impurity_decrease=0.0, min_impurity_split=None,\n",
              "                       min_samples_leaf=1, min_samples_split=2,\n",
              "                       min_weight_fraction_leaf=0.0, presort='deprecated',\n",
              "                       random_state=None, splitter='best')"
            ]
          },
          "metadata": {
            "tags": []
          },
          "execution_count": 361
        }
      ]
    },
    {
      "cell_type": "code",
      "metadata": {
        "colab": {
          "base_uri": "https://localhost:8080/"
        },
        "id": "lbET_ZmYZqYz",
        "outputId": "8a4a4381-4efb-4a39-f404-5da0de4ad097"
      },
      "source": [
        "decisiontreepredict=decisiontree.predict(X_test)\n",
        "decisiontreepredict"
      ],
      "execution_count": null,
      "outputs": [
        {
          "output_type": "execute_result",
          "data": {
            "text/plain": [
              "array(['M', 'L', 'L', 'M', 'H', 'M', 'H', 'L', 'L', 'M', 'H', 'M', 'M',\n",
              "       'L', 'H', 'M', 'M', 'L', 'M', 'H', 'L', 'M', 'M', 'M', 'M', 'H',\n",
              "       'M', 'M', 'M', 'L', 'M', 'L', 'H', 'M', 'M', 'M', 'H', 'H', 'M',\n",
              "       'M', 'H', 'L', 'M', 'H', 'H', 'M', 'M', 'M', 'M', 'L', 'M', 'H',\n",
              "       'H', 'L', 'H', 'H', 'L', 'L', 'M', 'M', 'M', 'M', 'H', 'H', 'H',\n",
              "       'M', 'M', 'M', 'L', 'L', 'L', 'L', 'M', 'L', 'H', 'M', 'M', 'L',\n",
              "       'M', 'L', 'M', 'M', 'H', 'L', 'L', 'H', 'M', 'H', 'M', 'H', 'M',\n",
              "       'H', 'H', 'H', 'M', 'H', 'L', 'M', 'L', 'H', 'L', 'M', 'M', 'M',\n",
              "       'M', 'H', 'L', 'H', 'L', 'M', 'L', 'L', 'L', 'L', 'M', 'M', 'L',\n",
              "       'H', 'M', 'H', 'M', 'M', 'M', 'M', 'M', 'M', 'M', 'M', 'L', 'M',\n",
              "       'H', 'M', 'H', 'M', 'M', 'H', 'M', 'M', 'M', 'H', 'M', 'M', 'H',\n",
              "       'H', 'H', 'L', 'H', 'L', 'L', 'H', 'M', 'M', 'M', 'M', 'H', 'M',\n",
              "       'L', 'H', 'M', 'L', 'M', 'M', 'L', 'M', 'H', 'M', 'M', 'M', 'M',\n",
              "       'M', 'L', 'M', 'H', 'H', 'L', 'M', 'H', 'M', 'M', 'L', 'H', 'H',\n",
              "       'L', 'M', 'M', 'M', 'M', 'L', 'M', 'L', 'H', 'L', 'L', 'H', 'M',\n",
              "       'H', 'M', 'H', 'H', 'L', 'H', 'L', 'L', 'M', 'H', 'H', 'M', 'H',\n",
              "       'M', 'M', 'M', 'L', 'H', 'H', 'M', 'H', 'L', 'M', 'H', 'M', 'L',\n",
              "       'L', 'H', 'M', 'M', 'L', 'L', 'H', 'H', 'L', 'M', 'M', 'L', 'M',\n",
              "       'H', 'M', 'L', 'H', 'M', 'M'], dtype=object)"
            ]
          },
          "metadata": {
            "tags": []
          },
          "execution_count": 362
        }
      ]
    },
    {
      "cell_type": "code",
      "metadata": {
        "colab": {
          "base_uri": "https://localhost:8080/"
        },
        "id": "l8IbHZHnaRlS",
        "outputId": "04d2e783-1818-4fd0-98e3-7f5be8f9cb23"
      },
      "source": [
        "print(\"Train Result:\\n================================================\")\n",
        "print(f\"Accuracy Score: {accuracy_score(y_test, decisiontreepredict) * 100:.2f}%\")\n",
        "print(\"_______________________________________________\")\n",
        "print(f\"CLASSIFICATION REPORT:\\n{classification_report(y_test, decisiontreepredict)}\")\n",
        "print(\"_______________________________________________\")\n",
        "print(f\"Confusion Matrix: \\n {confusion_matrix(y_test, decisiontreepredict)}\\n\")"
      ],
      "execution_count": null,
      "outputs": [
        {
          "output_type": "stream",
          "text": [
            "Train Result:\n",
            "================================================\n",
            "Accuracy Score: 100.00%\n",
            "_______________________________________________\n",
            "CLASSIFICATION REPORT:\n",
            "              precision    recall  f1-score   support\n",
            "\n",
            "           H       1.00      1.00      1.00        68\n",
            "           L       1.00      1.00      1.00        60\n",
            "           M       1.00      1.00      1.00       112\n",
            "\n",
            "    accuracy                           1.00       240\n",
            "   macro avg       1.00      1.00      1.00       240\n",
            "weighted avg       1.00      1.00      1.00       240\n",
            "\n",
            "_______________________________________________\n",
            "Confusion Matrix: \n",
            " [[ 68   0   0]\n",
            " [  0  60   0]\n",
            " [  0   0 112]]\n",
            "\n"
          ],
          "name": "stdout"
        }
      ]
    },
    {
      "cell_type": "markdown",
      "metadata": {
        "id": "oSxr2BFHeViO"
      },
      "source": [
        "now splitting 80:20 train and test proportion"
      ]
    },
    {
      "cell_type": "code",
      "metadata": {
        "id": "2oBiqsxNeel7"
      },
      "source": [
        "X=dataset.drop('Class',axis=1)\n",
        "y=dataset[\"Class\"]\n",
        "X_train,X_test,y_train,y_test=train_test_split(X,y,test_size=0.20,random_state=0)"
      ],
      "execution_count": null,
      "outputs": []
    },
    {
      "cell_type": "code",
      "metadata": {
        "colab": {
          "base_uri": "https://localhost:8080/"
        },
        "id": "vLPx6o4ueel9",
        "outputId": "619d97a2-7ac8-422a-8dfd-9e99e2505c16"
      },
      "source": [
        "DecisionTreeClassifier(criterion=\"entropy\").fit(X_train,y_train)\n"
      ],
      "execution_count": null,
      "outputs": [
        {
          "output_type": "execute_result",
          "data": {
            "text/plain": [
              "DecisionTreeClassifier(ccp_alpha=0.0, class_weight=None, criterion='entropy',\n",
              "                       max_depth=None, max_features=None, max_leaf_nodes=None,\n",
              "                       min_impurity_decrease=0.0, min_impurity_split=None,\n",
              "                       min_samples_leaf=1, min_samples_split=2,\n",
              "                       min_weight_fraction_leaf=0.0, presort='deprecated',\n",
              "                       random_state=None, splitter='best')"
            ]
          },
          "metadata": {
            "tags": []
          },
          "execution_count": 365
        }
      ]
    },
    {
      "cell_type": "code",
      "metadata": {
        "colab": {
          "base_uri": "https://localhost:8080/"
        },
        "id": "3VjF-Ow1eemM",
        "outputId": "fdb4655c-6082-4cf1-80c3-a7f28082b6f2"
      },
      "source": [
        "decisiontreepredict=decisiontree.predict(X_test)\n",
        "decisiontreepredict"
      ],
      "execution_count": null,
      "outputs": [
        {
          "output_type": "execute_result",
          "data": {
            "text/plain": [
              "array(['M', 'L', 'L', 'M', 'H', 'M', 'H', 'L', 'L', 'M', 'H', 'M', 'M',\n",
              "       'L', 'H', 'M', 'M', 'L', 'M', 'H', 'L', 'M', 'M', 'M', 'M', 'H',\n",
              "       'M', 'M', 'M', 'L', 'M', 'L', 'H', 'M', 'M', 'M', 'H', 'H', 'M',\n",
              "       'M', 'H', 'L', 'M', 'H', 'H', 'M', 'M', 'M', 'M', 'L', 'M', 'H',\n",
              "       'H', 'L', 'H', 'H', 'L', 'L', 'M', 'M', 'M', 'M', 'H', 'H', 'H',\n",
              "       'M', 'M', 'M', 'L', 'L', 'L', 'L', 'M', 'L', 'H', 'M', 'M', 'L',\n",
              "       'M', 'L', 'M', 'M', 'H', 'L', 'L', 'H', 'M', 'H', 'M', 'H', 'M',\n",
              "       'H', 'H', 'H', 'M', 'H'], dtype=object)"
            ]
          },
          "metadata": {
            "tags": []
          },
          "execution_count": 366
        }
      ]
    },
    {
      "cell_type": "code",
      "metadata": {
        "colab": {
          "base_uri": "https://localhost:8080/"
        },
        "id": "z-PulTFZeemN",
        "outputId": "5c69b11a-d839-4335-eb6a-dfe33d42379f"
      },
      "source": [
        "print(\"Train Result:\\n================================================\")\n",
        "print(f\"Accuracy Score: {accuracy_score(y_test, decisiontreepredict) * 100:.2f}%\")\n",
        "print(\"_______________________________________________\")\n",
        "print(f\"CLASSIFICATION REPORT:\\n{classification_report(y_test, decisiontreepredict)}\")\n",
        "print(\"_______________________________________________\")\n",
        "print(f\"Confusion Matrix: \\n {confusion_matrix(y_test, decisiontreepredict)}\\n\")"
      ],
      "execution_count": null,
      "outputs": [
        {
          "output_type": "stream",
          "text": [
            "Train Result:\n",
            "================================================\n",
            "Accuracy Score: 100.00%\n",
            "_______________________________________________\n",
            "CLASSIFICATION REPORT:\n",
            "              precision    recall  f1-score   support\n",
            "\n",
            "           H       1.00      1.00      1.00        28\n",
            "           L       1.00      1.00      1.00        23\n",
            "           M       1.00      1.00      1.00        45\n",
            "\n",
            "    accuracy                           1.00        96\n",
            "   macro avg       1.00      1.00      1.00        96\n",
            "weighted avg       1.00      1.00      1.00        96\n",
            "\n",
            "_______________________________________________\n",
            "Confusion Matrix: \n",
            " [[28  0  0]\n",
            " [ 0 23  0]\n",
            " [ 0  0 45]]\n",
            "\n"
          ],
          "name": "stdout"
        }
      ]
    },
    {
      "cell_type": "markdown",
      "metadata": {
        "id": "EVv4uswueogR"
      },
      "source": [
        "now splitting 75:25 train and test proportion"
      ]
    },
    {
      "cell_type": "code",
      "metadata": {
        "id": "VIZEH3xfel2K"
      },
      "source": [
        "X=dataset.drop('Class',axis=1)\n",
        "y=dataset[\"Class\"]\n",
        "X_train,X_test,y_train,y_test=train_test_split(X,y,test_size=0.25,random_state=0)"
      ],
      "execution_count": null,
      "outputs": []
    },
    {
      "cell_type": "code",
      "metadata": {
        "colab": {
          "base_uri": "https://localhost:8080/"
        },
        "id": "y54yxTZAel2M",
        "outputId": "70ea4fd7-ca5d-4952-bca5-5ec38f63c6d8"
      },
      "source": [
        "DecisionTreeClassifier(criterion=\"entropy\").fit(X_train,y_train)\n"
      ],
      "execution_count": null,
      "outputs": [
        {
          "output_type": "execute_result",
          "data": {
            "text/plain": [
              "DecisionTreeClassifier(ccp_alpha=0.0, class_weight=None, criterion='entropy',\n",
              "                       max_depth=None, max_features=None, max_leaf_nodes=None,\n",
              "                       min_impurity_decrease=0.0, min_impurity_split=None,\n",
              "                       min_samples_leaf=1, min_samples_split=2,\n",
              "                       min_weight_fraction_leaf=0.0, presort='deprecated',\n",
              "                       random_state=None, splitter='best')"
            ]
          },
          "metadata": {
            "tags": []
          },
          "execution_count": 369
        }
      ]
    },
    {
      "cell_type": "code",
      "metadata": {
        "colab": {
          "base_uri": "https://localhost:8080/"
        },
        "id": "-Stj36aael2N",
        "outputId": "dcf66864-5f9e-4d76-ab04-df2ed958c17d"
      },
      "source": [
        "decisiontreepredict=decisiontree.predict(X_test)\n",
        "decisiontreepredict"
      ],
      "execution_count": null,
      "outputs": [
        {
          "output_type": "execute_result",
          "data": {
            "text/plain": [
              "array(['M', 'L', 'L', 'M', 'H', 'M', 'H', 'L', 'L', 'M', 'H', 'M', 'M',\n",
              "       'L', 'H', 'M', 'M', 'L', 'M', 'H', 'L', 'M', 'M', 'M', 'M', 'H',\n",
              "       'M', 'M', 'M', 'L', 'M', 'L', 'H', 'M', 'M', 'M', 'H', 'H', 'M',\n",
              "       'M', 'H', 'L', 'M', 'H', 'H', 'M', 'M', 'M', 'M', 'L', 'M', 'H',\n",
              "       'H', 'L', 'H', 'H', 'L', 'L', 'M', 'M', 'M', 'M', 'H', 'H', 'H',\n",
              "       'M', 'M', 'M', 'L', 'L', 'L', 'L', 'M', 'L', 'H', 'M', 'M', 'L',\n",
              "       'M', 'L', 'M', 'M', 'H', 'L', 'L', 'H', 'M', 'H', 'M', 'H', 'M',\n",
              "       'H', 'H', 'H', 'M', 'H', 'L', 'M', 'L', 'H', 'L', 'M', 'M', 'M',\n",
              "       'M', 'H', 'L', 'H', 'L', 'M', 'L', 'L', 'L', 'L', 'M', 'M', 'L',\n",
              "       'H', 'M', 'H'], dtype=object)"
            ]
          },
          "metadata": {
            "tags": []
          },
          "execution_count": 370
        }
      ]
    },
    {
      "cell_type": "code",
      "metadata": {
        "colab": {
          "base_uri": "https://localhost:8080/"
        },
        "id": "mxNtwYR9el2P",
        "outputId": "77ef8289-0854-47bb-c313-ec9b29d8d413"
      },
      "source": [
        "print(\"Train Result:\\n================================================\")\n",
        "print(f\"Accuracy Score: {accuracy_score(y_test, decisiontreepredict) * 100:.2f}%\")\n",
        "print(\"_______________________________________________\")\n",
        "print(f\"CLASSIFICATION REPORT:\\n{classification_report(y_test, decisiontreepredict)}\")\n",
        "print(\"_______________________________________________\")\n",
        "print(f\"Confusion Matrix: \\n {confusion_matrix(y_test, decisiontreepredict)}\\n\")"
      ],
      "execution_count": null,
      "outputs": [
        {
          "output_type": "stream",
          "text": [
            "Train Result:\n",
            "================================================\n",
            "Accuracy Score: 100.00%\n",
            "_______________________________________________\n",
            "CLASSIFICATION REPORT:\n",
            "              precision    recall  f1-score   support\n",
            "\n",
            "           H       1.00      1.00      1.00        33\n",
            "           L       1.00      1.00      1.00        33\n",
            "           M       1.00      1.00      1.00        54\n",
            "\n",
            "    accuracy                           1.00       120\n",
            "   macro avg       1.00      1.00      1.00       120\n",
            "weighted avg       1.00      1.00      1.00       120\n",
            "\n",
            "_______________________________________________\n",
            "Confusion Matrix: \n",
            " [[33  0  0]\n",
            " [ 0 33  0]\n",
            " [ 0  0 54]]\n",
            "\n"
          ],
          "name": "stdout"
        }
      ]
    },
    {
      "cell_type": "markdown",
      "metadata": {
        "id": "8b9Rmi7ae4hx"
      },
      "source": [
        "now splitting 70:30 train and test proportion"
      ]
    },
    {
      "cell_type": "code",
      "metadata": {
        "id": "Do2AFWPXe-Md"
      },
      "source": [
        "X=dataset.drop('Class',axis=1)\n",
        "y=dataset[\"Class\"]\n",
        "X_train,X_test,y_train,y_test=train_test_split(X,y,test_size=0.30,random_state=0)"
      ],
      "execution_count": null,
      "outputs": []
    },
    {
      "cell_type": "code",
      "metadata": {
        "colab": {
          "base_uri": "https://localhost:8080/"
        },
        "id": "IJ47QGPDe-Mf",
        "outputId": "c2719cb6-c685-4b42-a12d-a0b3734873c6"
      },
      "source": [
        "DecisionTreeClassifier(criterion=\"entropy\").fit(X_train,y_train)\n"
      ],
      "execution_count": null,
      "outputs": [
        {
          "output_type": "execute_result",
          "data": {
            "text/plain": [
              "DecisionTreeClassifier(ccp_alpha=0.0, class_weight=None, criterion='entropy',\n",
              "                       max_depth=None, max_features=None, max_leaf_nodes=None,\n",
              "                       min_impurity_decrease=0.0, min_impurity_split=None,\n",
              "                       min_samples_leaf=1, min_samples_split=2,\n",
              "                       min_weight_fraction_leaf=0.0, presort='deprecated',\n",
              "                       random_state=None, splitter='best')"
            ]
          },
          "metadata": {
            "tags": []
          },
          "execution_count": 391
        }
      ]
    },
    {
      "cell_type": "code",
      "metadata": {
        "colab": {
          "base_uri": "https://localhost:8080/"
        },
        "id": "14ooqCs6e-My",
        "outputId": "ab4b9af1-2a46-47a4-a443-78b79c73cda7"
      },
      "source": [
        "decisiontreepredict=decisiontree.predict(X_train)\n",
        "decisiontreepredict"
      ],
      "execution_count": null,
      "outputs": [
        {
          "output_type": "execute_result",
          "data": {
            "text/plain": [
              "array(['H', 'L', 'H', 'L', 'L', 'H', 'M', 'M', 'M', 'M', 'H', 'M', 'L',\n",
              "       'H', 'M', 'L', 'M', 'M', 'L', 'M', 'H', 'M', 'M', 'M', 'M', 'M',\n",
              "       'L', 'M', 'H', 'H', 'L', 'M', 'H', 'M', 'M', 'L', 'H', 'H', 'L',\n",
              "       'M', 'M', 'M', 'M', 'L', 'M', 'L', 'H', 'L', 'L', 'H', 'M', 'H',\n",
              "       'M', 'H', 'H', 'L', 'H', 'L', 'L', 'M', 'H', 'H', 'M', 'H', 'M',\n",
              "       'M', 'M', 'L', 'H', 'H', 'M', 'H', 'L', 'M', 'H', 'M', 'L', 'L',\n",
              "       'H', 'M', 'M', 'L', 'L', 'H', 'H', 'L', 'M', 'M', 'L', 'M', 'H',\n",
              "       'M', 'L', 'H', 'M', 'M', 'H', 'L', 'M', 'H', 'H', 'L', 'M', 'M',\n",
              "       'M', 'M', 'M', 'M', 'L', 'L', 'M', 'L', 'L', 'L', 'M', 'M', 'L',\n",
              "       'L', 'M', 'M', 'H', 'H', 'H', 'H', 'M', 'M', 'L', 'M', 'L', 'M',\n",
              "       'M', 'L', 'L', 'M', 'L', 'H', 'L', 'M', 'H', 'L', 'M', 'M', 'H',\n",
              "       'L', 'L', 'H', 'H', 'H', 'M', 'H', 'L', 'H', 'H', 'L', 'H', 'M',\n",
              "       'M', 'M', 'M', 'H', 'H', 'H', 'M', 'M', 'M', 'L', 'M', 'M', 'L',\n",
              "       'H', 'M', 'L', 'L', 'H', 'H', 'M', 'L', 'H', 'L', 'L', 'L', 'H',\n",
              "       'H', 'M', 'L', 'H', 'H', 'H', 'M', 'H', 'H', 'L', 'L', 'H', 'M',\n",
              "       'M', 'M', 'H', 'M', 'L', 'M', 'M', 'M', 'H', 'L', 'M', 'H', 'H',\n",
              "       'M', 'M', 'M', 'H', 'H', 'L', 'M', 'L', 'M', 'M', 'H', 'H', 'M',\n",
              "       'L', 'M', 'H', 'H', 'H', 'L', 'M', 'H', 'M', 'M', 'M', 'M', 'H',\n",
              "       'M', 'L', 'M', 'M', 'L', 'M', 'H', 'L', 'H', 'M', 'M', 'M', 'L',\n",
              "       'M', 'M', 'M', 'H', 'L', 'H', 'M', 'M', 'H', 'H', 'L', 'M', 'M',\n",
              "       'H', 'L', 'L', 'M', 'M', 'M', 'H', 'L', 'L', 'L', 'M', 'H', 'L',\n",
              "       'L', 'L', 'H', 'H', 'L', 'L', 'M', 'M', 'M', 'M', 'M', 'H', 'M',\n",
              "       'L', 'L', 'L', 'H', 'H', 'M', 'M', 'H', 'M', 'M', 'M', 'H', 'M',\n",
              "       'M', 'M', 'H', 'L', 'H', 'M', 'L', 'H', 'H', 'L', 'M', 'L', 'H',\n",
              "       'M', 'H', 'M', 'H', 'M', 'M', 'H', 'M', 'L', 'L', 'L', 'H', 'L',\n",
              "       'H', 'M', 'M', 'H', 'M', 'L', 'L', 'M', 'H', 'H', 'L'],\n",
              "      dtype=object)"
            ]
          },
          "metadata": {
            "tags": []
          },
          "execution_count": 392
        }
      ]
    },
    {
      "cell_type": "code",
      "metadata": {
        "colab": {
          "base_uri": "https://localhost:8080/"
        },
        "id": "bx2-IsPDe-Mz",
        "outputId": "a5f9d578-dcdf-460b-a4e1-76a5d66e3416"
      },
      "source": [
        "print(\"Train Result:\\n================================================\")\n",
        "print(f\"Accuracy Score: {accuracy_score(y_train, decisiontreepredict) * 100:.2f}%\")\n",
        "print(\"_______________________________________________\")\n",
        "print(f\"CLASSIFICATION REPORT:\\n{classification_report(y_train, decisiontreepredict)}\")\n",
        "print(\"_______________________________________________\")\n",
        "print(f\"Confusion Matrix: \\n {confusion_matrix(y_train, decisiontreepredict)}\\n\")"
      ],
      "execution_count": null,
      "outputs": [
        {
          "output_type": "stream",
          "text": [
            "Train Result:\n",
            "================================================\n",
            "Accuracy Score: 100.00%\n",
            "_______________________________________________\n",
            "CLASSIFICATION REPORT:\n",
            "              precision    recall  f1-score   support\n",
            "\n",
            "           H       1.00      1.00      1.00       103\n",
            "           L       1.00      1.00      1.00        93\n",
            "           M       1.00      1.00      1.00       140\n",
            "\n",
            "    accuracy                           1.00       336\n",
            "   macro avg       1.00      1.00      1.00       336\n",
            "weighted avg       1.00      1.00      1.00       336\n",
            "\n",
            "_______________________________________________\n",
            "Confusion Matrix: \n",
            " [[103   0   0]\n",
            " [  0  93   0]\n",
            " [  0   0 140]]\n",
            "\n"
          ],
          "name": "stdout"
        }
      ]
    },
    {
      "cell_type": "markdown",
      "metadata": {
        "id": "UlvebezevThU"
      },
      "source": [
        "**Accuracy of results of Decision Tree with various test and train data proportion **\n",
        "\n",
        "\n",
        "1.   50:50 -100%\n",
        "2.   80:20 -100%\n",
        "3.   75:25 -100%\n",
        "4.   70:30 -100%\n",
        "\n",
        "highest accuracy is obtained here with 100%\n"
      ]
    },
    {
      "cell_type": "markdown",
      "metadata": {
        "id": "-sKODu54h-Ou"
      },
      "source": [
        "**NAIVE BAYES**"
      ]
    },
    {
      "cell_type": "markdown",
      "metadata": {
        "id": "TuDVD4JbqNR9"
      },
      "source": [
        "starting with 50:50  train and test data"
      ]
    },
    {
      "cell_type": "code",
      "metadata": {
        "colab": {
          "base_uri": "https://localhost:8080/"
        },
        "id": "H0uClpole7Fu",
        "outputId": "badb0764-37ba-45d5-ddb7-318ff635d7e9"
      },
      "source": [
        "X=dataset.drop('Class',axis=1)\n",
        "y=dataset[\"Class\"]\n",
        "X_train,X_test,y_train,y_test=train_test_split(X,y,test_size=0.50,random_state=0)\n",
        "X_train.shape,X_test.shape\n",
        "gaussNb=GaussianNB()\n",
        "gaussNb.fit(X_train,y_train)"
      ],
      "execution_count": null,
      "outputs": [
        {
          "output_type": "execute_result",
          "data": {
            "text/plain": [
              "GaussianNB(priors=None, var_smoothing=1e-09)"
            ]
          },
          "metadata": {
            "tags": []
          },
          "execution_count": 394
        }
      ]
    },
    {
      "cell_type": "code",
      "metadata": {
        "id": "mRUEMkq2iXK9"
      },
      "source": [
        "y_predict=gaussNb.predict(X_test)"
      ],
      "execution_count": null,
      "outputs": []
    },
    {
      "cell_type": "code",
      "metadata": {
        "colab": {
          "base_uri": "https://localhost:8080/"
        },
        "id": "IrHJ6VOziYGy",
        "outputId": "cbbea02d-a493-410a-cad8-a1e3edf20284"
      },
      "source": [
        "print(\"Train Result:\\n================================================\")\n",
        "print(f\"Accuracy Score: {accuracy_score(y_test, y_predict) * 100:.2f}%\")\n",
        "print(\"_______________________________________________\")\n",
        "print(f\"CLASSIFICATION REPORT:\\n{classification_report(y_test, y_predict)}\")\n",
        "print(\"_______________________________________________\")\n",
        "print(f\"Confusion Matrix: \\n {confusion_matrix(y_test, y_predict)}\\n\")"
      ],
      "execution_count": null,
      "outputs": [
        {
          "output_type": "stream",
          "text": [
            "Train Result:\n",
            "================================================\n",
            "Accuracy Score: 70.42%\n",
            "_______________________________________________\n",
            "CLASSIFICATION REPORT:\n",
            "              precision    recall  f1-score   support\n",
            "\n",
            "           H       0.63      0.76      0.69        68\n",
            "           L       0.73      0.92      0.81        60\n",
            "           M       0.75      0.55      0.64       112\n",
            "\n",
            "    accuracy                           0.70       240\n",
            "   macro avg       0.70      0.74      0.71       240\n",
            "weighted avg       0.71      0.70      0.70       240\n",
            "\n",
            "_______________________________________________\n",
            "Confusion Matrix: \n",
            " [[52  0 16]\n",
            " [ 0 55  5]\n",
            " [30 20 62]]\n",
            "\n"
          ],
          "name": "stdout"
        }
      ]
    },
    {
      "cell_type": "markdown",
      "metadata": {
        "id": "_d04VEK-iuMu"
      },
      "source": [
        "now splitting 80:20 train and test proportion"
      ]
    },
    {
      "cell_type": "code",
      "metadata": {
        "colab": {
          "base_uri": "https://localhost:8080/"
        },
        "id": "BgSBUrG_jB0P",
        "outputId": "148b5fc9-ec29-41ee-8389-f60af86922b5"
      },
      "source": [
        "X=dataset.drop('Class',axis=1)\n",
        "y=dataset[\"Class\"]\n",
        "X_train,X_test,y_train,y_test=train_test_split(X,y,test_size=0.20,random_state=0)\n",
        "X_train.shape,X_test.shape\n",
        "gaussNb=GaussianNB()\n",
        "gaussNb.fit(X_train,y_train)"
      ],
      "execution_count": null,
      "outputs": [
        {
          "output_type": "execute_result",
          "data": {
            "text/plain": [
              "GaussianNB(priors=None, var_smoothing=1e-09)"
            ]
          },
          "metadata": {
            "tags": []
          },
          "execution_count": 397
        }
      ]
    },
    {
      "cell_type": "code",
      "metadata": {
        "id": "C79FEf_fjB0g"
      },
      "source": [
        "y_predict=gaussNb.predict(X_test)"
      ],
      "execution_count": null,
      "outputs": []
    },
    {
      "cell_type": "code",
      "metadata": {
        "colab": {
          "base_uri": "https://localhost:8080/"
        },
        "id": "GwFCWBDvwCGV",
        "outputId": "c3dbb73e-7349-4854-a92a-889809b47e84"
      },
      "source": [
        "print(\"Train Result:\\n================================================\")\n",
        "print(f\"Accuracy Score: {accuracy_score(y_test, y_predict) * 100:.2f}%\")\n",
        "print(\"_______________________________________________\")\n",
        "print(f\"CLASSIFICATION REPORT:\\n{classification_report(y_test, y_predict)}\")\n",
        "print(\"_______________________________________________\")\n",
        "print(f\"Confusion Matrix: \\n {confusion_matrix(y_test, y_predict)}\\n\")"
      ],
      "execution_count": null,
      "outputs": [
        {
          "output_type": "stream",
          "text": [
            "Train Result:\n",
            "================================================\n",
            "Accuracy Score: 70.83%\n",
            "_______________________________________________\n",
            "CLASSIFICATION REPORT:\n",
            "              precision    recall  f1-score   support\n",
            "\n",
            "           H       0.59      0.82      0.69        28\n",
            "           L       0.79      0.96      0.86        23\n",
            "           M       0.79      0.51      0.62        45\n",
            "\n",
            "    accuracy                           0.71        96\n",
            "   macro avg       0.72      0.76      0.72        96\n",
            "weighted avg       0.73      0.71      0.70        96\n",
            "\n",
            "_______________________________________________\n",
            "Confusion Matrix: \n",
            " [[23  0  5]\n",
            " [ 0 22  1]\n",
            " [16  6 23]]\n",
            "\n"
          ],
          "name": "stdout"
        }
      ]
    },
    {
      "cell_type": "markdown",
      "metadata": {
        "id": "78vDSJZfjKH_"
      },
      "source": [
        "now splitting 75:25 train and test proportion"
      ]
    },
    {
      "cell_type": "code",
      "metadata": {
        "colab": {
          "base_uri": "https://localhost:8080/"
        },
        "id": "mPmOep9-jKIA",
        "outputId": "1a431ea0-092a-43b0-a0a4-07aadace5aec"
      },
      "source": [
        "X=dataset.drop('Class',axis=1)\n",
        "y=dataset[\"Class\"]\n",
        "X_train,X_test,y_train,y_test=train_test_split(X,y,test_size=0.25,random_state=0)\n",
        "X_train.shape,X_test.shape\n",
        "gaussNb=GaussianNB()\n",
        "gaussNb.fit(X_train,y_train)"
      ],
      "execution_count": null,
      "outputs": [
        {
          "output_type": "execute_result",
          "data": {
            "text/plain": [
              "GaussianNB(priors=None, var_smoothing=1e-09)"
            ]
          },
          "metadata": {
            "tags": []
          },
          "execution_count": 400
        }
      ]
    },
    {
      "cell_type": "code",
      "metadata": {
        "id": "pRo8kKhFjKIC"
      },
      "source": [
        "y_predict=gaussNb.predict(X_test)"
      ],
      "execution_count": null,
      "outputs": []
    },
    {
      "cell_type": "code",
      "metadata": {
        "colab": {
          "base_uri": "https://localhost:8080/"
        },
        "id": "qEj5IPVNwGo2",
        "outputId": "8ed6c0b0-1a12-43ff-a4a7-066094f482b5"
      },
      "source": [
        "print(\"Train Result:\\n================================================\")\n",
        "print(f\"Accuracy Score: {accuracy_score(y_test, y_predict) * 100:.2f}%\")\n",
        "print(\"_______________________________________________\")\n",
        "print(f\"CLASSIFICATION REPORT:\\n{classification_report(y_test, y_predict)}\")\n",
        "print(\"_______________________________________________\")\n",
        "print(f\"Confusion Matrix: \\n {confusion_matrix(y_test, y_predict)}\\n\")"
      ],
      "execution_count": null,
      "outputs": [
        {
          "output_type": "stream",
          "text": [
            "Train Result:\n",
            "================================================\n",
            "Accuracy Score: 70.00%\n",
            "_______________________________________________\n",
            "CLASSIFICATION REPORT:\n",
            "              precision    recall  f1-score   support\n",
            "\n",
            "           H       0.60      0.73      0.66        33\n",
            "           L       0.79      0.91      0.85        33\n",
            "           M       0.71      0.56      0.63        54\n",
            "\n",
            "    accuracy                           0.70       120\n",
            "   macro avg       0.70      0.73      0.71       120\n",
            "weighted avg       0.70      0.70      0.69       120\n",
            "\n",
            "_______________________________________________\n",
            "Confusion Matrix: \n",
            " [[24  0  9]\n",
            " [ 0 30  3]\n",
            " [16  8 30]]\n",
            "\n"
          ],
          "name": "stdout"
        }
      ]
    },
    {
      "cell_type": "markdown",
      "metadata": {
        "id": "bbQsfMmmjRYV"
      },
      "source": [
        "now splitting 70:30 train and test proportion"
      ]
    },
    {
      "cell_type": "code",
      "metadata": {
        "colab": {
          "base_uri": "https://localhost:8080/"
        },
        "id": "FcLV8mKrjRYW",
        "outputId": "ceb3ec61-e75a-404d-df0d-b49c4637500d"
      },
      "source": [
        "X=dataset.drop('Class',axis=1)\n",
        "y=dataset[\"Class\"]\n",
        "X_train,X_test,y_train,y_test=train_test_split(X,y,test_size=0.30,random_state=0)\n",
        "X_train.shape,X_test.shape\n",
        "gaussNb=GaussianNB()\n",
        "gaussNb.fit(X_train,y_train)"
      ],
      "execution_count": null,
      "outputs": [
        {
          "output_type": "execute_result",
          "data": {
            "text/plain": [
              "GaussianNB(priors=None, var_smoothing=1e-09)"
            ]
          },
          "metadata": {
            "tags": []
          },
          "execution_count": 403
        }
      ]
    },
    {
      "cell_type": "code",
      "metadata": {
        "id": "_LdXIHOzjRYY"
      },
      "source": [
        "y_predict=gaussNb.predict(X_test)"
      ],
      "execution_count": null,
      "outputs": []
    },
    {
      "cell_type": "code",
      "metadata": {
        "colab": {
          "base_uri": "https://localhost:8080/"
        },
        "id": "8Ktz7w4fwKZe",
        "outputId": "4fbee57d-0da9-48ac-af05-8fd0b747a709"
      },
      "source": [
        "print(\"Train Result:\\n================================================\")\n",
        "print(f\"Accuracy Score: {accuracy_score(y_test, y_predict) * 100:.2f}%\")\n",
        "print(\"_______________________________________________\")\n",
        "print(f\"CLASSIFICATION REPORT:\\n{classification_report(y_test, y_predict)}\")\n",
        "print(\"_______________________________________________\")\n",
        "print(f\"Confusion Matrix: \\n {confusion_matrix(y_test, y_predict)}\\n\")"
      ],
      "execution_count": null,
      "outputs": [
        {
          "output_type": "stream",
          "text": [
            "Train Result:\n",
            "================================================\n",
            "Accuracy Score: 71.53%\n",
            "_______________________________________________\n",
            "CLASSIFICATION REPORT:\n",
            "              precision    recall  f1-score   support\n",
            "\n",
            "           H       0.60      0.77      0.67        39\n",
            "           L       0.76      0.94      0.84        34\n",
            "           M       0.79      0.58      0.67        71\n",
            "\n",
            "    accuracy                           0.72       144\n",
            "   macro avg       0.72      0.76      0.73       144\n",
            "weighted avg       0.73      0.72      0.71       144\n",
            "\n",
            "_______________________________________________\n",
            "Confusion Matrix: \n",
            " [[30  0  9]\n",
            " [ 0 32  2]\n",
            " [20 10 41]]\n",
            "\n"
          ],
          "name": "stdout"
        }
      ]
    },
    {
      "cell_type": "markdown",
      "metadata": {
        "id": "CiGO1x7nwcP3"
      },
      "source": [
        "**Accuracy of results of Naive bayes with various test and train data proportion**\n",
        "\n",
        "\n",
        "1.   50:50 -70.42%\n",
        "2.   80:20 -70.83%\n",
        "3.   75:25 -70.00%\n",
        "4.   70:30 -71.53%\n",
        "\n",
        "Among these highest accuracy is obtained in 70:30 proportion with 71.53%\n"
      ]
    },
    {
      "cell_type": "markdown",
      "metadata": {
        "id": "_I1a7sPbjyxz"
      },
      "source": [
        "**MULTILAYER PERCEPTRON**"
      ]
    },
    {
      "cell_type": "markdown",
      "metadata": {
        "id": "QiBKPHwaqQU0"
      },
      "source": [
        "starting with 50:50  train and test data"
      ]
    },
    {
      "cell_type": "code",
      "metadata": {
        "id": "r5ne6CzWj2I6"
      },
      "source": [
        "X=dataset.drop('Class',axis=1)\n",
        "y=dataset[\"Class\"]\n",
        "X_train,X_test,y_train,y_test=train_test_split(X,y,test_size=0.50,random_state=0)\n",
        "multilayerperceptron=MLPClassifier(max_iter=500, activation='relu')"
      ],
      "execution_count": null,
      "outputs": []
    },
    {
      "cell_type": "code",
      "metadata": {
        "id": "ebRj7f5Mj_b5"
      },
      "source": [
        "multilayerperceptron.fit(X_train,y_train)\n",
        "multilayerperceptron_Predict=multilayerperceptron.predict(X_test)"
      ],
      "execution_count": null,
      "outputs": []
    },
    {
      "cell_type": "code",
      "metadata": {
        "colab": {
          "base_uri": "https://localhost:8080/"
        },
        "id": "CFLzQAGTxFqp",
        "outputId": "c9474e95-5332-4e71-8e63-8e8bd11d9fd6"
      },
      "source": [
        "print(\"Train Result:\\n================================================\")\n",
        "print(f\"Accuracy Score: {accuracy_score(y_test, multilayerperceptron_Predict) * 100:.2f}%\")\n",
        "print(\"_______________________________________________\")\n",
        "print(f\"CLASSIFICATION REPORT:\\n{classification_report(y_test, multilayerperceptron_Predict)}\")\n",
        "print(\"_______________________________________________\")\n",
        "print(f\"Confusion Matrix: \\n {confusion_matrix(y_test, multilayerperceptron_Predict)}\\n\")"
      ],
      "execution_count": null,
      "outputs": [
        {
          "output_type": "stream",
          "text": [
            "Train Result:\n",
            "================================================\n",
            "Accuracy Score: 70.00%\n",
            "_______________________________________________\n",
            "CLASSIFICATION REPORT:\n",
            "              precision    recall  f1-score   support\n",
            "\n",
            "           H       0.62      0.59      0.61        68\n",
            "           L       0.80      0.87      0.83        60\n",
            "           M       0.68      0.68      0.68       112\n",
            "\n",
            "    accuracy                           0.70       240\n",
            "   macro avg       0.70      0.71      0.71       240\n",
            "weighted avg       0.70      0.70      0.70       240\n",
            "\n",
            "_______________________________________________\n",
            "Confusion Matrix: \n",
            " [[40  1 27]\n",
            " [ 0 52  8]\n",
            " [24 12 76]]\n",
            "\n"
          ],
          "name": "stdout"
        }
      ]
    },
    {
      "cell_type": "markdown",
      "metadata": {
        "id": "0IkFcnAKkded"
      },
      "source": [
        "now splitting 80:20 train and test proportion"
      ]
    },
    {
      "cell_type": "code",
      "metadata": {
        "id": "KCflwAJcklkP"
      },
      "source": [
        "X=dataset.drop('Class',axis=1)\n",
        "y=dataset[\"Class\"]\n",
        "X_train,X_test,y_train,y_test=train_test_split(X,y,test_size=0.20,random_state=0)\n",
        "multilayerperceptron=MLPClassifier(max_iter=500, activation='relu')"
      ],
      "execution_count": null,
      "outputs": []
    },
    {
      "cell_type": "code",
      "metadata": {
        "id": "_YWhOxNzklkQ"
      },
      "source": [
        "multilayerperceptron.fit(X_train,y_train)\n",
        "multilayerperceptron_Predict=multilayerperceptron.predict(X_test)"
      ],
      "execution_count": null,
      "outputs": []
    },
    {
      "cell_type": "code",
      "metadata": {
        "colab": {
          "base_uri": "https://localhost:8080/"
        },
        "id": "FpCuPk4LxRFb",
        "outputId": "fcb32066-67e9-441c-b1c3-2c910f48d599"
      },
      "source": [
        "print(\"Train Result:\\n================================================\")\n",
        "print(f\"Accuracy Score: {accuracy_score(y_test, multilayerperceptron_Predict) * 100:.2f}%\")\n",
        "print(\"_______________________________________________\")\n",
        "print(f\"CLASSIFICATION REPORT:\\n{classification_report(y_test, multilayerperceptron_Predict)}\")\n",
        "print(\"_______________________________________________\")\n",
        "print(f\"Confusion Matrix: \\n {confusion_matrix(y_test, multilayerperceptron_Predict)}\\n\")"
      ],
      "execution_count": null,
      "outputs": [
        {
          "output_type": "stream",
          "text": [
            "Train Result:\n",
            "================================================\n",
            "Accuracy Score: 71.88%\n",
            "_______________________________________________\n",
            "CLASSIFICATION REPORT:\n",
            "              precision    recall  f1-score   support\n",
            "\n",
            "           H       0.59      0.57      0.58        28\n",
            "           L       0.88      0.96      0.92        23\n",
            "           M       0.70      0.69      0.70        45\n",
            "\n",
            "    accuracy                           0.72        96\n",
            "   macro avg       0.73      0.74      0.73        96\n",
            "weighted avg       0.71      0.72      0.72        96\n",
            "\n",
            "_______________________________________________\n",
            "Confusion Matrix: \n",
            " [[16  0 12]\n",
            " [ 0 22  1]\n",
            " [11  3 31]]\n",
            "\n"
          ],
          "name": "stdout"
        }
      ]
    },
    {
      "cell_type": "markdown",
      "metadata": {
        "id": "lBz5DfNSktC3"
      },
      "source": [
        "now splitting 75:25 train and test proportion"
      ]
    },
    {
      "cell_type": "code",
      "metadata": {
        "id": "JFXF379cktC5"
      },
      "source": [
        "X=dataset.drop('Class',axis=1)\n",
        "y=dataset[\"Class\"]\n",
        "X_train,X_test,y_train,y_test=train_test_split(X,y,test_size=0.25,random_state=0)\n",
        "multilayerperceptron=MLPClassifier(max_iter=500, activation='relu')"
      ],
      "execution_count": null,
      "outputs": []
    },
    {
      "cell_type": "code",
      "metadata": {
        "colab": {
          "base_uri": "https://localhost:8080/"
        },
        "id": "-yanDzoDktC6",
        "outputId": "4af05635-8f54-45a6-bca2-42af9a5e3930"
      },
      "source": [
        "multilayerperceptron.fit(X_train,y_train)\n",
        "multilayerperceptron_Predict=multilayerperceptron.predict(X_test)"
      ],
      "execution_count": null,
      "outputs": [
        {
          "output_type": "stream",
          "text": [
            "/usr/local/lib/python3.7/dist-packages/sklearn/neural_network/_multilayer_perceptron.py:571: ConvergenceWarning: Stochastic Optimizer: Maximum iterations (500) reached and the optimization hasn't converged yet.\n",
            "  % self.max_iter, ConvergenceWarning)\n"
          ],
          "name": "stderr"
        }
      ]
    },
    {
      "cell_type": "code",
      "metadata": {
        "colab": {
          "base_uri": "https://localhost:8080/"
        },
        "id": "bUQXhVmIktC7",
        "outputId": "00f7bd97-52c8-46aa-aa55-5509d74b48a3"
      },
      "source": [
        "print(\"Train Result:\\n================================================\")\n",
        "print(f\"Accuracy Score: {accuracy_score(y_test, multilayerperceptron_Predict) * 100:.2f}%\")\n",
        "print(\"_______________________________________________\")\n",
        "print(f\"CLASSIFICATION REPORT:\\n{classification_report(y_test, multilayerperceptron_Predict)}\")\n",
        "print(\"_______________________________________________\")\n",
        "print(f\"Confusion Matrix: \\n {confusion_matrix(y_test, multilayerperceptron_Predict)}\\n\")"
      ],
      "execution_count": null,
      "outputs": [
        {
          "output_type": "stream",
          "text": [
            "Train Result:\n",
            "================================================\n",
            "Accuracy Score: 71.67%\n",
            "_______________________________________________\n",
            "CLASSIFICATION REPORT:\n",
            "              precision    recall  f1-score   support\n",
            "\n",
            "           H       0.67      0.67      0.67        33\n",
            "           L       0.82      0.82      0.82        33\n",
            "           M       0.69      0.69      0.69        54\n",
            "\n",
            "    accuracy                           0.72       120\n",
            "   macro avg       0.72      0.72      0.72       120\n",
            "weighted avg       0.72      0.72      0.72       120\n",
            "\n",
            "_______________________________________________\n",
            "Confusion Matrix: \n",
            " [[22  0 11]\n",
            " [ 0 27  6]\n",
            " [11  6 37]]\n",
            "\n"
          ],
          "name": "stdout"
        }
      ]
    },
    {
      "cell_type": "markdown",
      "metadata": {
        "id": "aBB2g8t5k0Nh"
      },
      "source": [
        "now splitting 70:30 train and test proportion"
      ]
    },
    {
      "cell_type": "code",
      "metadata": {
        "id": "8TVxx6QWk0Ni"
      },
      "source": [
        "X=dataset.drop('Class',axis=1)\n",
        "y=dataset[\"Class\"]\n",
        "X_train,X_test,y_train,y_test=train_test_split(X,y,test_size=0.30,random_state=0)\n",
        "multilayerperceptron=MLPClassifier(max_iter=500, activation='relu')"
      ],
      "execution_count": null,
      "outputs": []
    },
    {
      "cell_type": "code",
      "metadata": {
        "id": "QCKv4t2mk0Nj"
      },
      "source": [
        "multilayerperceptron.fit(X_train,y_train)\n",
        "multilayerperceptron_Predict=multilayerperceptron.predict(X_test)"
      ],
      "execution_count": null,
      "outputs": []
    },
    {
      "cell_type": "code",
      "metadata": {
        "colab": {
          "base_uri": "https://localhost:8080/"
        },
        "id": "xPuA_VJUk0Nk",
        "outputId": "2b0d1ee7-f439-4999-e69a-ff637914155c"
      },
      "source": [
        "print(\"Train Result:\\n================================================\")\n",
        "print(f\"Accuracy Score: {accuracy_score(y_test, multilayerperceptron_Predict) * 100:.2f}%\")\n",
        "print(\"_______________________________________________\")\n",
        "print(f\"CLASSIFICATION REPORT:\\n{classification_report(y_test, multilayerperceptron_Predict)}\")\n",
        "print(\"_______________________________________________\")\n",
        "print(f\"Confusion Matrix: \\n {confusion_matrix(y_test, multilayerperceptron_Predict)}\\n\")"
      ],
      "execution_count": null,
      "outputs": [
        {
          "output_type": "stream",
          "text": [
            "Train Result:\n",
            "================================================\n",
            "Accuracy Score: 73.61%\n",
            "_______________________________________________\n",
            "CLASSIFICATION REPORT:\n",
            "              precision    recall  f1-score   support\n",
            "\n",
            "           H       0.64      0.72      0.67        39\n",
            "           L       0.79      0.88      0.83        34\n",
            "           M       0.77      0.68      0.72        71\n",
            "\n",
            "    accuracy                           0.74       144\n",
            "   macro avg       0.73      0.76      0.74       144\n",
            "weighted avg       0.74      0.74      0.74       144\n",
            "\n",
            "_______________________________________________\n",
            "Confusion Matrix: \n",
            " [[28  1 10]\n",
            " [ 0 30  4]\n",
            " [16  7 48]]\n",
            "\n"
          ],
          "name": "stdout"
        }
      ]
    },
    {
      "cell_type": "markdown",
      "metadata": {
        "id": "_cYkoGm0xw4P"
      },
      "source": [
        "**Accuracy of results of Multi Layer Perceptrons with various test and train data proportion**\n",
        "\n",
        "\n",
        "1.   50:50 -70.00%\n",
        "2.   80:20 -71.88%\n",
        "3.   75:25 -71.67%\n",
        "4.   70:30 -73.61%\n",
        "\n",
        "Among these highest accuracy is obtained in 70:30 proportion with 73.61%\n"
      ]
    },
    {
      "cell_type": "markdown",
      "metadata": {
        "id": "05MGWOtYlwb3"
      },
      "source": [
        "**KNN CLASSIFICATION**"
      ]
    },
    {
      "cell_type": "markdown",
      "metadata": {
        "id": "tYlEpRCwqSI1"
      },
      "source": [
        "\n",
        "\n",
        "\n",
        "\n",
        "\n",
        "\n",
        "starting with 50:50  train and test data"
      ]
    },
    {
      "cell_type": "code",
      "metadata": {
        "id": "RxE2LRKikie0"
      },
      "source": [
        "X=dataset.drop('Class',axis=1)\n",
        "y=dataset[\"Class\"]\n",
        "X_train,X_test,y_train,y_test=train_test_split(X,y,test_size=0.50,random_state=0)"
      ],
      "execution_count": null,
      "outputs": []
    },
    {
      "cell_type": "code",
      "metadata": {
        "id": "brnPl8jQmAL4"
      },
      "source": [
        "KNN = KNeighborsClassifier()\n",
        "KNN.fit(X_train, y_train)\n",
        "KNN_predict = KNN.predict(X_test)"
      ],
      "execution_count": null,
      "outputs": []
    },
    {
      "cell_type": "code",
      "metadata": {
        "colab": {
          "base_uri": "https://localhost:8080/"
        },
        "id": "-DBhLCkGyguC",
        "outputId": "7ff0bda0-46ce-47ab-869a-aff90748d2ae"
      },
      "source": [
        "print(\"Train Result:\\n================================================\")\n",
        "print(f\"Accuracy Score: {accuracy_score(y_test, KNN_predict) * 100:.2f}%\")\n",
        "print(\"_______________________________________________\")\n",
        "print(f\"CLASSIFICATION REPORT:\\n{classification_report(y_test, KNN_predict)}\")\n",
        "print(\"_______________________________________________\")\n",
        "print(f\"Confusion Matrix: \\n {confusion_matrix(y_test, KNN_predict)}\\n\")"
      ],
      "execution_count": null,
      "outputs": [
        {
          "output_type": "stream",
          "text": [
            "Train Result:\n",
            "================================================\n",
            "Accuracy Score: 61.25%\n",
            "_______________________________________________\n",
            "CLASSIFICATION REPORT:\n",
            "              precision    recall  f1-score   support\n",
            "\n",
            "           H       0.57      0.51      0.54        68\n",
            "           L       0.67      0.75      0.71        60\n",
            "           M       0.60      0.60      0.60       112\n",
            "\n",
            "    accuracy                           0.61       240\n",
            "   macro avg       0.61      0.62      0.62       240\n",
            "weighted avg       0.61      0.61      0.61       240\n",
            "\n",
            "_______________________________________________\n",
            "Confusion Matrix: \n",
            " [[35  3 30]\n",
            " [ 0 45 15]\n",
            " [26 19 67]]\n",
            "\n"
          ],
          "name": "stdout"
        }
      ]
    },
    {
      "cell_type": "markdown",
      "metadata": {
        "id": "E9ZFjZxamFzL"
      },
      "source": [
        "now splitting 80:20 train and test proportion"
      ]
    },
    {
      "cell_type": "code",
      "metadata": {
        "id": "Rg0fsiGPmK0x"
      },
      "source": [
        "X=dataset.drop('Class',axis=1)\n",
        "y=dataset[\"Class\"]\n",
        "X_train,X_test,y_train,y_test=train_test_split(X,y,test_size=0.20,random_state=0)"
      ],
      "execution_count": null,
      "outputs": []
    },
    {
      "cell_type": "code",
      "metadata": {
        "id": "ZcraT--WmK0z"
      },
      "source": [
        "KNN = KNeighborsClassifier()\n",
        "KNN.fit(X_train, y_train)\n",
        "KNN_predict = KNN.predict(X_test)"
      ],
      "execution_count": null,
      "outputs": []
    },
    {
      "cell_type": "code",
      "metadata": {
        "colab": {
          "base_uri": "https://localhost:8080/"
        },
        "id": "0dG2vnR0ylpq",
        "outputId": "f4c34709-933a-41c4-c57a-27cf3dfa645f"
      },
      "source": [
        "print(\"Train Result:\\n================================================\")\n",
        "print(f\"Accuracy Score: {accuracy_score(y_test, KNN_predict) * 100:.2f}%\")\n",
        "print(\"_______________________________________________\")\n",
        "print(f\"CLASSIFICATION REPORT:\\n{classification_report(y_test, KNN_predict)}\")\n",
        "print(\"_______________________________________________\")\n",
        "print(f\"Confusion Matrix: \\n {confusion_matrix(y_test, KNN_predict)}\\n\")"
      ],
      "execution_count": null,
      "outputs": [
        {
          "output_type": "stream",
          "text": [
            "Train Result:\n",
            "================================================\n",
            "Accuracy Score: 65.62%\n",
            "_______________________________________________\n",
            "CLASSIFICATION REPORT:\n",
            "              precision    recall  f1-score   support\n",
            "\n",
            "           H       0.60      0.54      0.57        28\n",
            "           L       0.74      0.87      0.80        23\n",
            "           M       0.64      0.62      0.63        45\n",
            "\n",
            "    accuracy                           0.66        96\n",
            "   macro avg       0.66      0.68      0.67        96\n",
            "weighted avg       0.65      0.66      0.65        96\n",
            "\n",
            "_______________________________________________\n",
            "Confusion Matrix: \n",
            " [[15  0 13]\n",
            " [ 0 20  3]\n",
            " [10  7 28]]\n",
            "\n"
          ],
          "name": "stdout"
        }
      ]
    },
    {
      "cell_type": "markdown",
      "metadata": {
        "id": "EabOCZoMmPcI"
      },
      "source": [
        "now splitting 75:25 train and test proportion"
      ]
    },
    {
      "cell_type": "code",
      "metadata": {
        "id": "n9TIoEyCmPcJ"
      },
      "source": [
        "X=dataset.drop('Class',axis=1)\n",
        "y=dataset[\"Class\"]\n",
        "X_train,X_test,y_train,y_test=train_test_split(X,y,test_size=0.25,random_state=0)"
      ],
      "execution_count": null,
      "outputs": []
    },
    {
      "cell_type": "code",
      "metadata": {
        "id": "ExxabHQNmPcK"
      },
      "source": [
        "KNN = KNeighborsClassifier()\n",
        "KNN.fit(X_train, y_train)\n",
        "KNN_predict = KNN.predict(X_test)"
      ],
      "execution_count": null,
      "outputs": []
    },
    {
      "cell_type": "code",
      "metadata": {
        "colab": {
          "base_uri": "https://localhost:8080/"
        },
        "id": "MHZvO6jbzvqU",
        "outputId": "87c4f3a0-cc60-4b20-f9b7-bcf4928d6149"
      },
      "source": [
        "print(\"Train Result:\\n================================================\")\n",
        "print(f\"Accuracy Score: {accuracy_score(y_test, KNN_predict) * 100:.2f}%\")\n",
        "print(\"_______________________________________________\")\n",
        "print(f\"CLASSIFICATION REPORT:\\n{classification_report(y_test, KNN_predict)}\")\n",
        "print(\"_______________________________________________\")\n",
        "print(f\"Confusion Matrix: \\n {confusion_matrix(y_test, KNN_predict)}\\n\")"
      ],
      "execution_count": null,
      "outputs": [
        {
          "output_type": "stream",
          "text": [
            "Train Result:\n",
            "================================================\n",
            "Accuracy Score: 62.50%\n",
            "_______________________________________________\n",
            "CLASSIFICATION REPORT:\n",
            "              precision    recall  f1-score   support\n",
            "\n",
            "           H       0.55      0.48      0.52        33\n",
            "           L       0.76      0.76      0.76        33\n",
            "           M       0.59      0.63      0.61        54\n",
            "\n",
            "    accuracy                           0.62       120\n",
            "   macro avg       0.63      0.62      0.63       120\n",
            "weighted avg       0.62      0.62      0.62       120\n",
            "\n",
            "_______________________________________________\n",
            "Confusion Matrix: \n",
            " [[16  1 16]\n",
            " [ 0 25  8]\n",
            " [13  7 34]]\n",
            "\n"
          ],
          "name": "stdout"
        }
      ]
    },
    {
      "cell_type": "markdown",
      "metadata": {
        "id": "eWvYU0lbmYPS"
      },
      "source": [
        "now splitting 70:30 train and test proportion"
      ]
    },
    {
      "cell_type": "code",
      "metadata": {
        "id": "QYs-rkOnmYPT"
      },
      "source": [
        "X=dataset.drop('Class',axis=1)\n",
        "y=dataset[\"Class\"]\n",
        "X_train,X_test,y_train,y_test=train_test_split(X,y,test_size=0.30,random_state=0)"
      ],
      "execution_count": null,
      "outputs": []
    },
    {
      "cell_type": "code",
      "metadata": {
        "id": "13U9vxfzmYPU"
      },
      "source": [
        "KNN = KNeighborsClassifier()\n",
        "KNN.fit(X_train, y_train)\n",
        "KNN_predict = KNN.predict(X_test)"
      ],
      "execution_count": null,
      "outputs": []
    },
    {
      "cell_type": "code",
      "metadata": {
        "colab": {
          "base_uri": "https://localhost:8080/"
        },
        "id": "oTmslGkFz14W",
        "outputId": "73d2cefb-2020-4a76-d07d-3a2f9fb8b634"
      },
      "source": [
        "print(\"Train Result:\\n================================================\")\n",
        "print(f\"Accuracy Score: {accuracy_score(y_test, KNN_predict) * 100:.2f}%\")\n",
        "print(\"_______________________________________________\")\n",
        "print(f\"CLASSIFICATION REPORT:\\n{classification_report(y_test, KNN_predict)}\")\n",
        "print(\"_______________________________________________\")\n",
        "print(f\"Confusion Matrix: \\n {confusion_matrix(y_test, KNN_predict)}\\n\")"
      ],
      "execution_count": null,
      "outputs": [
        {
          "output_type": "stream",
          "text": [
            "Train Result:\n",
            "================================================\n",
            "Accuracy Score: 63.19%\n",
            "_______________________________________________\n",
            "CLASSIFICATION REPORT:\n",
            "              precision    recall  f1-score   support\n",
            "\n",
            "           H       0.53      0.49      0.51        39\n",
            "           L       0.71      0.79      0.75        34\n",
            "           M       0.64      0.63      0.64        71\n",
            "\n",
            "    accuracy                           0.63       144\n",
            "   macro avg       0.63      0.64      0.63       144\n",
            "weighted avg       0.63      0.63      0.63       144\n",
            "\n",
            "_______________________________________________\n",
            "Confusion Matrix: \n",
            " [[19  2 18]\n",
            " [ 0 27  7]\n",
            " [17  9 45]]\n",
            "\n"
          ],
          "name": "stdout"
        }
      ]
    },
    {
      "cell_type": "markdown",
      "metadata": {
        "id": "zRu_mZoL0EG8"
      },
      "source": [
        "**Accuracy of results of KNN Classification with various test and train data proportion**\n",
        "\n",
        "\n",
        "1.   50:50 -61.25%\n",
        "2.   80:20 -65.62%\n",
        "3.   75:25 -62.50%\n",
        "4.   70:30 -63.19%\n",
        "\n",
        "Among these highest accuracy is obtained in 80:20 proportion with 65.62%\n"
      ]
    },
    {
      "cell_type": "markdown",
      "metadata": {
        "id": "ltjMj-XY0olR"
      },
      "source": [
        "**ANALYSIS OF ALL THE ALGORITHMS AND BEST ALGORITHM TO USE FOR THIS DATASET**\n",
        "\n",
        "\n",
        "1.   Logistic Regression=74.22%\n",
        "2.   Decision Tree=100%\n",
        "3.   Naive Bayes=71.53%\n",
        "4.   Multilayer Perceptrons=73.61%\n",
        "5.   KNN Classification=65.62%\n",
        "\n",
        "Best Algorithm with better accuracy is **DECISION TREE WITH 100%**\n",
        "and Least Accuracy is **KNN Classification with 65.62%**"
      ]
    }
  ]
}